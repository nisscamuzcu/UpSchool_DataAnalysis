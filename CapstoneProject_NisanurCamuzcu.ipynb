{
  "nbformat": 4,
  "nbformat_minor": 0,
  "metadata": {
    "colab": {
      "name": "CapstoneProject_NisanurCamuzcu.ipynb",
      "provenance": [],
      "collapsed_sections": [],
      "authorship_tag": "ABX9TyPbTPZL/peyVHdPG4oDFT4B",
      "include_colab_link": true
    },
    "kernelspec": {
      "name": "python3",
      "display_name": "Python 3"
    },
    "language_info": {
      "name": "python"
    }
  },
  "cells": [
    {
      "cell_type": "markdown",
      "metadata": {
        "id": "view-in-github",
        "colab_type": "text"
      },
      "source": [
        "<a href=\"https://colab.research.google.com/github/nisscamuzcu/UpSchool_DataAnalysis/blob/main/CapstoneProject_NisanurCamuzcu.ipynb\" target=\"_parent\"><img src=\"https://colab.research.google.com/assets/colab-badge.svg\" alt=\"Open In Colab\"/></a>"
      ]
    },
    {
      "cell_type": "markdown",
      "metadata": {
        "id": "cCwWdz4J4Buz"
      },
      "source": [
        "# **UpSchool-DA1 - Capstone Project - Updated**\n",
        "## Nisanur Camuzcu\n",
        "### Mobile Price Range Classification\n",
        "\n",
        "![upschool.png](data:image/png;base64,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)"
      ]
    },
    {
      "cell_type": "markdown",
      "metadata": {
        "id": "pOUiFzVQ77ts"
      },
      "source": [
        "In the capstone project, mobile price range classification is inspected. The price range is divided into four subgroups, from 0 (low price) to 3(very high price). \n",
        "\n",
        "General steps of the project are mentioned below. The detailed description is given in the following code cells before the implemented code and also after obtaining the results of the concerned code part.\n"
      ]
    },
    {
      "cell_type": "markdown",
      "metadata": {
        "id": "I0Vu6Dl8pk2d"
      },
      "source": [
        "#### Followed Steps \n",
        "First the dataset is loaded and required libraries are imported. Obtaining the data, the worked datasets are examined to grasp knowledge and proceed accordingly to obtain accurate results.\n",
        "\n",
        "Inspecting the data and features, the existence of missing values are checked. The dataset was ready to work as there is no null or missing variable.\n",
        "\n",
        "Then with the help of pandas functions, the data is analyzed utilizing the following criteria. \n",
        "- describe, mean, min, max, median\n",
        "\n",
        "Observing and getting familiar with the examined dataset, the results are grouped to reach the dominant and critical features.\n",
        "\n",
        "In the following parts, the important features are visualized to reach more clear observations. So, the distribution of the features and labels are seen in the plots and figures. Also, the relationship among them is inspected with those plotted figures.\n",
        "\n",
        "In the last parts of the project, some statistical analysis is handled to check the relation between features with mathematical perspective."
      ]
    },
    {
      "cell_type": "markdown",
      "metadata": {
        "id": "Mq2BWGQfu4KA"
      },
      "source": [
        "---"
      ]
    },
    {
      "cell_type": "markdown",
      "metadata": {
        "id": "4h9DJDlh5-Kg"
      },
      "source": [
        "#####  ----- Mobile Price Range Classification Project -----"
      ]
    },
    {
      "cell_type": "code",
      "metadata": {
        "colab": {
          "base_uri": "https://localhost:8080/"
        },
        "id": "bVsxgz2PPiso",
        "outputId": "53fde54c-1733-47be-9b2a-12ac222eb197"
      },
      "source": [
        "# import necessary libraries\n",
        "import numpy as np\n",
        "import pandas as pd\n",
        "import matplotlib.pyplot as plt\n",
        "import seaborn as sns\n",
        "\n",
        "from scipy import stats\n",
        "import statsmodels.api as sm\n",
        "from statsmodels.formula.api import ols"
      ],
      "execution_count": null,
      "outputs": [
        {
          "output_type": "stream",
          "text": [
            "/usr/local/lib/python3.7/dist-packages/statsmodels/tools/_testing.py:19: FutureWarning: pandas.util.testing is deprecated. Use the functions in the public API at pandas.testing instead.\n",
            "  import pandas.util.testing as tm\n"
          ],
          "name": "stderr"
        }
      ]
    },
    {
      "cell_type": "markdown",
      "metadata": {
        "id": "Isn9FgkFobhE"
      },
      "source": [
        "The datasets are loaded from drive. The feature names that can be unclear are arranged in order to work with more clear labels. Then the labels and features are separated in train data. "
      ]
    },
    {
      "cell_type": "code",
      "metadata": {
        "colab": {
          "base_uri": "https://localhost:8080/"
        },
        "id": "IahJmyVLl8so",
        "outputId": "61dd281a-09ae-44f1-b80a-e7b0be432365"
      },
      "source": [
        "from google.colab import drive\n",
        "drive.mount(\"/content/gdrive\")"
      ],
      "execution_count": null,
      "outputs": [
        {
          "output_type": "stream",
          "text": [
            "Mounted at /content/gdrive\n"
          ],
          "name": "stdout"
        }
      ]
    },
    {
      "cell_type": "code",
      "metadata": {
        "id": "D6WyVwI0teQG"
      },
      "source": [
        "# load train and test data\n",
        "train = pd.read_csv('/content/gdrive/My Drive/UpSchool/CapstoneProject_NisanurCamuzcu/train.csv')\n",
        "test_x = pd.read_csv('/content/gdrive/My Drive/UpSchool/CapstoneProject_NisanurCamuzcu/test.csv')\n",
        "\n",
        "train = train.rename(columns = {'fc':'front_cam', 'pc':'primary_cam', 'sc_h':'screen_heig', 'sc_w':'screen_weig'})\n",
        "test_x = test_x.rename(columns = {'fc':'front_cam', 'pc':'primary_cam', 'sc_h':'screen_heig', 'sc_w':'screen_weig'})\n",
        "\n",
        "train_y = train['price_range']\n",
        "train_x = train.drop('price_range', inplace=False, axis=1)\n",
        "test_x = test_x.drop('id', inplace=False, axis=1)"
      ],
      "execution_count": null,
      "outputs": []
    },
    {
      "cell_type": "code",
      "metadata": {
        "colab": {
          "base_uri": "https://localhost:8080/",
          "height": 439
        },
        "id": "1UQGpYVrl_AZ",
        "outputId": "5b2f1b89-0e46-4137-fbe2-a91b609a7a68"
      },
      "source": [
        "# check the train data\n",
        "train_x"
      ],
      "execution_count": null,
      "outputs": [
        {
          "output_type": "execute_result",
          "data": {
            "text/html": [
              "<div>\n",
              "<style scoped>\n",
              "    .dataframe tbody tr th:only-of-type {\n",
              "        vertical-align: middle;\n",
              "    }\n",
              "\n",
              "    .dataframe tbody tr th {\n",
              "        vertical-align: top;\n",
              "    }\n",
              "\n",
              "    .dataframe thead th {\n",
              "        text-align: right;\n",
              "    }\n",
              "</style>\n",
              "<table border=\"1\" class=\"dataframe\">\n",
              "  <thead>\n",
              "    <tr style=\"text-align: right;\">\n",
              "      <th></th>\n",
              "      <th>battery_power</th>\n",
              "      <th>blue</th>\n",
              "      <th>clock_speed</th>\n",
              "      <th>dual_sim</th>\n",
              "      <th>front_cam</th>\n",
              "      <th>four_g</th>\n",
              "      <th>int_memory</th>\n",
              "      <th>m_dep</th>\n",
              "      <th>mobile_wt</th>\n",
              "      <th>n_cores</th>\n",
              "      <th>primary_cam</th>\n",
              "      <th>px_height</th>\n",
              "      <th>px_width</th>\n",
              "      <th>ram</th>\n",
              "      <th>screen_heig</th>\n",
              "      <th>screen_weig</th>\n",
              "      <th>talk_time</th>\n",
              "      <th>three_g</th>\n",
              "      <th>touch_screen</th>\n",
              "      <th>wifi</th>\n",
              "    </tr>\n",
              "  </thead>\n",
              "  <tbody>\n",
              "    <tr>\n",
              "      <th>0</th>\n",
              "      <td>842</td>\n",
              "      <td>0</td>\n",
              "      <td>2.2</td>\n",
              "      <td>0</td>\n",
              "      <td>1</td>\n",
              "      <td>0</td>\n",
              "      <td>7</td>\n",
              "      <td>0.6</td>\n",
              "      <td>188</td>\n",
              "      <td>2</td>\n",
              "      <td>2</td>\n",
              "      <td>20</td>\n",
              "      <td>756</td>\n",
              "      <td>2549</td>\n",
              "      <td>9</td>\n",
              "      <td>7</td>\n",
              "      <td>19</td>\n",
              "      <td>0</td>\n",
              "      <td>0</td>\n",
              "      <td>1</td>\n",
              "    </tr>\n",
              "    <tr>\n",
              "      <th>1</th>\n",
              "      <td>1021</td>\n",
              "      <td>1</td>\n",
              "      <td>0.5</td>\n",
              "      <td>1</td>\n",
              "      <td>0</td>\n",
              "      <td>1</td>\n",
              "      <td>53</td>\n",
              "      <td>0.7</td>\n",
              "      <td>136</td>\n",
              "      <td>3</td>\n",
              "      <td>6</td>\n",
              "      <td>905</td>\n",
              "      <td>1988</td>\n",
              "      <td>2631</td>\n",
              "      <td>17</td>\n",
              "      <td>3</td>\n",
              "      <td>7</td>\n",
              "      <td>1</td>\n",
              "      <td>1</td>\n",
              "      <td>0</td>\n",
              "    </tr>\n",
              "    <tr>\n",
              "      <th>2</th>\n",
              "      <td>563</td>\n",
              "      <td>1</td>\n",
              "      <td>0.5</td>\n",
              "      <td>1</td>\n",
              "      <td>2</td>\n",
              "      <td>1</td>\n",
              "      <td>41</td>\n",
              "      <td>0.9</td>\n",
              "      <td>145</td>\n",
              "      <td>5</td>\n",
              "      <td>6</td>\n",
              "      <td>1263</td>\n",
              "      <td>1716</td>\n",
              "      <td>2603</td>\n",
              "      <td>11</td>\n",
              "      <td>2</td>\n",
              "      <td>9</td>\n",
              "      <td>1</td>\n",
              "      <td>1</td>\n",
              "      <td>0</td>\n",
              "    </tr>\n",
              "    <tr>\n",
              "      <th>3</th>\n",
              "      <td>615</td>\n",
              "      <td>1</td>\n",
              "      <td>2.5</td>\n",
              "      <td>0</td>\n",
              "      <td>0</td>\n",
              "      <td>0</td>\n",
              "      <td>10</td>\n",
              "      <td>0.8</td>\n",
              "      <td>131</td>\n",
              "      <td>6</td>\n",
              "      <td>9</td>\n",
              "      <td>1216</td>\n",
              "      <td>1786</td>\n",
              "      <td>2769</td>\n",
              "      <td>16</td>\n",
              "      <td>8</td>\n",
              "      <td>11</td>\n",
              "      <td>1</td>\n",
              "      <td>0</td>\n",
              "      <td>0</td>\n",
              "    </tr>\n",
              "    <tr>\n",
              "      <th>4</th>\n",
              "      <td>1821</td>\n",
              "      <td>1</td>\n",
              "      <td>1.2</td>\n",
              "      <td>0</td>\n",
              "      <td>13</td>\n",
              "      <td>1</td>\n",
              "      <td>44</td>\n",
              "      <td>0.6</td>\n",
              "      <td>141</td>\n",
              "      <td>2</td>\n",
              "      <td>14</td>\n",
              "      <td>1208</td>\n",
              "      <td>1212</td>\n",
              "      <td>1411</td>\n",
              "      <td>8</td>\n",
              "      <td>2</td>\n",
              "      <td>15</td>\n",
              "      <td>1</td>\n",
              "      <td>1</td>\n",
              "      <td>0</td>\n",
              "    </tr>\n",
              "    <tr>\n",
              "      <th>...</th>\n",
              "      <td>...</td>\n",
              "      <td>...</td>\n",
              "      <td>...</td>\n",
              "      <td>...</td>\n",
              "      <td>...</td>\n",
              "      <td>...</td>\n",
              "      <td>...</td>\n",
              "      <td>...</td>\n",
              "      <td>...</td>\n",
              "      <td>...</td>\n",
              "      <td>...</td>\n",
              "      <td>...</td>\n",
              "      <td>...</td>\n",
              "      <td>...</td>\n",
              "      <td>...</td>\n",
              "      <td>...</td>\n",
              "      <td>...</td>\n",
              "      <td>...</td>\n",
              "      <td>...</td>\n",
              "      <td>...</td>\n",
              "    </tr>\n",
              "    <tr>\n",
              "      <th>1995</th>\n",
              "      <td>794</td>\n",
              "      <td>1</td>\n",
              "      <td>0.5</td>\n",
              "      <td>1</td>\n",
              "      <td>0</td>\n",
              "      <td>1</td>\n",
              "      <td>2</td>\n",
              "      <td>0.8</td>\n",
              "      <td>106</td>\n",
              "      <td>6</td>\n",
              "      <td>14</td>\n",
              "      <td>1222</td>\n",
              "      <td>1890</td>\n",
              "      <td>668</td>\n",
              "      <td>13</td>\n",
              "      <td>4</td>\n",
              "      <td>19</td>\n",
              "      <td>1</td>\n",
              "      <td>1</td>\n",
              "      <td>0</td>\n",
              "    </tr>\n",
              "    <tr>\n",
              "      <th>1996</th>\n",
              "      <td>1965</td>\n",
              "      <td>1</td>\n",
              "      <td>2.6</td>\n",
              "      <td>1</td>\n",
              "      <td>0</td>\n",
              "      <td>0</td>\n",
              "      <td>39</td>\n",
              "      <td>0.2</td>\n",
              "      <td>187</td>\n",
              "      <td>4</td>\n",
              "      <td>3</td>\n",
              "      <td>915</td>\n",
              "      <td>1965</td>\n",
              "      <td>2032</td>\n",
              "      <td>11</td>\n",
              "      <td>10</td>\n",
              "      <td>16</td>\n",
              "      <td>1</td>\n",
              "      <td>1</td>\n",
              "      <td>1</td>\n",
              "    </tr>\n",
              "    <tr>\n",
              "      <th>1997</th>\n",
              "      <td>1911</td>\n",
              "      <td>0</td>\n",
              "      <td>0.9</td>\n",
              "      <td>1</td>\n",
              "      <td>1</td>\n",
              "      <td>1</td>\n",
              "      <td>36</td>\n",
              "      <td>0.7</td>\n",
              "      <td>108</td>\n",
              "      <td>8</td>\n",
              "      <td>3</td>\n",
              "      <td>868</td>\n",
              "      <td>1632</td>\n",
              "      <td>3057</td>\n",
              "      <td>9</td>\n",
              "      <td>1</td>\n",
              "      <td>5</td>\n",
              "      <td>1</td>\n",
              "      <td>1</td>\n",
              "      <td>0</td>\n",
              "    </tr>\n",
              "    <tr>\n",
              "      <th>1998</th>\n",
              "      <td>1512</td>\n",
              "      <td>0</td>\n",
              "      <td>0.9</td>\n",
              "      <td>0</td>\n",
              "      <td>4</td>\n",
              "      <td>1</td>\n",
              "      <td>46</td>\n",
              "      <td>0.1</td>\n",
              "      <td>145</td>\n",
              "      <td>5</td>\n",
              "      <td>5</td>\n",
              "      <td>336</td>\n",
              "      <td>670</td>\n",
              "      <td>869</td>\n",
              "      <td>18</td>\n",
              "      <td>10</td>\n",
              "      <td>19</td>\n",
              "      <td>1</td>\n",
              "      <td>1</td>\n",
              "      <td>1</td>\n",
              "    </tr>\n",
              "    <tr>\n",
              "      <th>1999</th>\n",
              "      <td>510</td>\n",
              "      <td>1</td>\n",
              "      <td>2.0</td>\n",
              "      <td>1</td>\n",
              "      <td>5</td>\n",
              "      <td>1</td>\n",
              "      <td>45</td>\n",
              "      <td>0.9</td>\n",
              "      <td>168</td>\n",
              "      <td>6</td>\n",
              "      <td>16</td>\n",
              "      <td>483</td>\n",
              "      <td>754</td>\n",
              "      <td>3919</td>\n",
              "      <td>19</td>\n",
              "      <td>4</td>\n",
              "      <td>2</td>\n",
              "      <td>1</td>\n",
              "      <td>1</td>\n",
              "      <td>1</td>\n",
              "    </tr>\n",
              "  </tbody>\n",
              "</table>\n",
              "<p>2000 rows × 20 columns</p>\n",
              "</div>"
            ],
            "text/plain": [
              "      battery_power  blue  clock_speed  ...  three_g  touch_screen  wifi\n",
              "0               842     0          2.2  ...        0             0     1\n",
              "1              1021     1          0.5  ...        1             1     0\n",
              "2               563     1          0.5  ...        1             1     0\n",
              "3               615     1          2.5  ...        1             0     0\n",
              "4              1821     1          1.2  ...        1             1     0\n",
              "...             ...   ...          ...  ...      ...           ...   ...\n",
              "1995            794     1          0.5  ...        1             1     0\n",
              "1996           1965     1          2.6  ...        1             1     1\n",
              "1997           1911     0          0.9  ...        1             1     0\n",
              "1998           1512     0          0.9  ...        1             1     1\n",
              "1999            510     1          2.0  ...        1             1     1\n",
              "\n",
              "[2000 rows x 20 columns]"
            ]
          },
          "metadata": {
            "tags": []
          },
          "execution_count": 4
        }
      ]
    },
    {
      "cell_type": "code",
      "metadata": {
        "colab": {
          "base_uri": "https://localhost:8080/",
          "height": 439
        },
        "id": "lrw39pLFoG9j",
        "outputId": "bf1b9cc9-0429-4343-9aa5-877fe4c2deaf"
      },
      "source": [
        "# check the test data\n",
        "test_x"
      ],
      "execution_count": null,
      "outputs": [
        {
          "output_type": "execute_result",
          "data": {
            "text/html": [
              "<div>\n",
              "<style scoped>\n",
              "    .dataframe tbody tr th:only-of-type {\n",
              "        vertical-align: middle;\n",
              "    }\n",
              "\n",
              "    .dataframe tbody tr th {\n",
              "        vertical-align: top;\n",
              "    }\n",
              "\n",
              "    .dataframe thead th {\n",
              "        text-align: right;\n",
              "    }\n",
              "</style>\n",
              "<table border=\"1\" class=\"dataframe\">\n",
              "  <thead>\n",
              "    <tr style=\"text-align: right;\">\n",
              "      <th></th>\n",
              "      <th>battery_power</th>\n",
              "      <th>blue</th>\n",
              "      <th>clock_speed</th>\n",
              "      <th>dual_sim</th>\n",
              "      <th>front_cam</th>\n",
              "      <th>four_g</th>\n",
              "      <th>int_memory</th>\n",
              "      <th>m_dep</th>\n",
              "      <th>mobile_wt</th>\n",
              "      <th>n_cores</th>\n",
              "      <th>primary_cam</th>\n",
              "      <th>px_height</th>\n",
              "      <th>px_width</th>\n",
              "      <th>ram</th>\n",
              "      <th>screen_heig</th>\n",
              "      <th>screen_weig</th>\n",
              "      <th>talk_time</th>\n",
              "      <th>three_g</th>\n",
              "      <th>touch_screen</th>\n",
              "      <th>wifi</th>\n",
              "    </tr>\n",
              "  </thead>\n",
              "  <tbody>\n",
              "    <tr>\n",
              "      <th>0</th>\n",
              "      <td>1043</td>\n",
              "      <td>1</td>\n",
              "      <td>1.8</td>\n",
              "      <td>1</td>\n",
              "      <td>14</td>\n",
              "      <td>0</td>\n",
              "      <td>5</td>\n",
              "      <td>0.1</td>\n",
              "      <td>193</td>\n",
              "      <td>3</td>\n",
              "      <td>16</td>\n",
              "      <td>226</td>\n",
              "      <td>1412</td>\n",
              "      <td>3476</td>\n",
              "      <td>12</td>\n",
              "      <td>7</td>\n",
              "      <td>2</td>\n",
              "      <td>0</td>\n",
              "      <td>1</td>\n",
              "      <td>0</td>\n",
              "    </tr>\n",
              "    <tr>\n",
              "      <th>1</th>\n",
              "      <td>841</td>\n",
              "      <td>1</td>\n",
              "      <td>0.5</td>\n",
              "      <td>1</td>\n",
              "      <td>4</td>\n",
              "      <td>1</td>\n",
              "      <td>61</td>\n",
              "      <td>0.8</td>\n",
              "      <td>191</td>\n",
              "      <td>5</td>\n",
              "      <td>12</td>\n",
              "      <td>746</td>\n",
              "      <td>857</td>\n",
              "      <td>3895</td>\n",
              "      <td>6</td>\n",
              "      <td>0</td>\n",
              "      <td>7</td>\n",
              "      <td>1</td>\n",
              "      <td>0</td>\n",
              "      <td>0</td>\n",
              "    </tr>\n",
              "    <tr>\n",
              "      <th>2</th>\n",
              "      <td>1807</td>\n",
              "      <td>1</td>\n",
              "      <td>2.8</td>\n",
              "      <td>0</td>\n",
              "      <td>1</td>\n",
              "      <td>0</td>\n",
              "      <td>27</td>\n",
              "      <td>0.9</td>\n",
              "      <td>186</td>\n",
              "      <td>3</td>\n",
              "      <td>4</td>\n",
              "      <td>1270</td>\n",
              "      <td>1366</td>\n",
              "      <td>2396</td>\n",
              "      <td>17</td>\n",
              "      <td>10</td>\n",
              "      <td>10</td>\n",
              "      <td>0</td>\n",
              "      <td>1</td>\n",
              "      <td>1</td>\n",
              "    </tr>\n",
              "    <tr>\n",
              "      <th>3</th>\n",
              "      <td>1546</td>\n",
              "      <td>0</td>\n",
              "      <td>0.5</td>\n",
              "      <td>1</td>\n",
              "      <td>18</td>\n",
              "      <td>1</td>\n",
              "      <td>25</td>\n",
              "      <td>0.5</td>\n",
              "      <td>96</td>\n",
              "      <td>8</td>\n",
              "      <td>20</td>\n",
              "      <td>295</td>\n",
              "      <td>1752</td>\n",
              "      <td>3893</td>\n",
              "      <td>10</td>\n",
              "      <td>0</td>\n",
              "      <td>7</td>\n",
              "      <td>1</td>\n",
              "      <td>1</td>\n",
              "      <td>0</td>\n",
              "    </tr>\n",
              "    <tr>\n",
              "      <th>4</th>\n",
              "      <td>1434</td>\n",
              "      <td>0</td>\n",
              "      <td>1.4</td>\n",
              "      <td>0</td>\n",
              "      <td>11</td>\n",
              "      <td>1</td>\n",
              "      <td>49</td>\n",
              "      <td>0.5</td>\n",
              "      <td>108</td>\n",
              "      <td>6</td>\n",
              "      <td>18</td>\n",
              "      <td>749</td>\n",
              "      <td>810</td>\n",
              "      <td>1773</td>\n",
              "      <td>15</td>\n",
              "      <td>8</td>\n",
              "      <td>7</td>\n",
              "      <td>1</td>\n",
              "      <td>0</td>\n",
              "      <td>1</td>\n",
              "    </tr>\n",
              "    <tr>\n",
              "      <th>...</th>\n",
              "      <td>...</td>\n",
              "      <td>...</td>\n",
              "      <td>...</td>\n",
              "      <td>...</td>\n",
              "      <td>...</td>\n",
              "      <td>...</td>\n",
              "      <td>...</td>\n",
              "      <td>...</td>\n",
              "      <td>...</td>\n",
              "      <td>...</td>\n",
              "      <td>...</td>\n",
              "      <td>...</td>\n",
              "      <td>...</td>\n",
              "      <td>...</td>\n",
              "      <td>...</td>\n",
              "      <td>...</td>\n",
              "      <td>...</td>\n",
              "      <td>...</td>\n",
              "      <td>...</td>\n",
              "      <td>...</td>\n",
              "    </tr>\n",
              "    <tr>\n",
              "      <th>995</th>\n",
              "      <td>1700</td>\n",
              "      <td>1</td>\n",
              "      <td>1.9</td>\n",
              "      <td>0</td>\n",
              "      <td>0</td>\n",
              "      <td>1</td>\n",
              "      <td>54</td>\n",
              "      <td>0.5</td>\n",
              "      <td>170</td>\n",
              "      <td>7</td>\n",
              "      <td>17</td>\n",
              "      <td>644</td>\n",
              "      <td>913</td>\n",
              "      <td>2121</td>\n",
              "      <td>14</td>\n",
              "      <td>8</td>\n",
              "      <td>15</td>\n",
              "      <td>1</td>\n",
              "      <td>1</td>\n",
              "      <td>0</td>\n",
              "    </tr>\n",
              "    <tr>\n",
              "      <th>996</th>\n",
              "      <td>609</td>\n",
              "      <td>0</td>\n",
              "      <td>1.8</td>\n",
              "      <td>1</td>\n",
              "      <td>0</td>\n",
              "      <td>0</td>\n",
              "      <td>13</td>\n",
              "      <td>0.9</td>\n",
              "      <td>186</td>\n",
              "      <td>4</td>\n",
              "      <td>2</td>\n",
              "      <td>1152</td>\n",
              "      <td>1632</td>\n",
              "      <td>1933</td>\n",
              "      <td>8</td>\n",
              "      <td>1</td>\n",
              "      <td>19</td>\n",
              "      <td>0</td>\n",
              "      <td>1</td>\n",
              "      <td>1</td>\n",
              "    </tr>\n",
              "    <tr>\n",
              "      <th>997</th>\n",
              "      <td>1185</td>\n",
              "      <td>0</td>\n",
              "      <td>1.4</td>\n",
              "      <td>0</td>\n",
              "      <td>1</td>\n",
              "      <td>1</td>\n",
              "      <td>8</td>\n",
              "      <td>0.5</td>\n",
              "      <td>80</td>\n",
              "      <td>1</td>\n",
              "      <td>12</td>\n",
              "      <td>477</td>\n",
              "      <td>825</td>\n",
              "      <td>1223</td>\n",
              "      <td>5</td>\n",
              "      <td>0</td>\n",
              "      <td>14</td>\n",
              "      <td>1</td>\n",
              "      <td>0</td>\n",
              "      <td>0</td>\n",
              "    </tr>\n",
              "    <tr>\n",
              "      <th>998</th>\n",
              "      <td>1533</td>\n",
              "      <td>1</td>\n",
              "      <td>0.5</td>\n",
              "      <td>1</td>\n",
              "      <td>0</td>\n",
              "      <td>0</td>\n",
              "      <td>50</td>\n",
              "      <td>0.4</td>\n",
              "      <td>171</td>\n",
              "      <td>2</td>\n",
              "      <td>12</td>\n",
              "      <td>38</td>\n",
              "      <td>832</td>\n",
              "      <td>2509</td>\n",
              "      <td>15</td>\n",
              "      <td>11</td>\n",
              "      <td>6</td>\n",
              "      <td>0</td>\n",
              "      <td>1</td>\n",
              "      <td>0</td>\n",
              "    </tr>\n",
              "    <tr>\n",
              "      <th>999</th>\n",
              "      <td>1270</td>\n",
              "      <td>1</td>\n",
              "      <td>0.5</td>\n",
              "      <td>0</td>\n",
              "      <td>4</td>\n",
              "      <td>1</td>\n",
              "      <td>35</td>\n",
              "      <td>0.1</td>\n",
              "      <td>140</td>\n",
              "      <td>6</td>\n",
              "      <td>19</td>\n",
              "      <td>457</td>\n",
              "      <td>608</td>\n",
              "      <td>2828</td>\n",
              "      <td>9</td>\n",
              "      <td>2</td>\n",
              "      <td>3</td>\n",
              "      <td>1</td>\n",
              "      <td>0</td>\n",
              "      <td>1</td>\n",
              "    </tr>\n",
              "  </tbody>\n",
              "</table>\n",
              "<p>1000 rows × 20 columns</p>\n",
              "</div>"
            ],
            "text/plain": [
              "     battery_power  blue  clock_speed  ...  three_g  touch_screen  wifi\n",
              "0             1043     1          1.8  ...        0             1     0\n",
              "1              841     1          0.5  ...        1             0     0\n",
              "2             1807     1          2.8  ...        0             1     1\n",
              "3             1546     0          0.5  ...        1             1     0\n",
              "4             1434     0          1.4  ...        1             0     1\n",
              "..             ...   ...          ...  ...      ...           ...   ...\n",
              "995           1700     1          1.9  ...        1             1     0\n",
              "996            609     0          1.8  ...        0             1     1\n",
              "997           1185     0          1.4  ...        1             0     0\n",
              "998           1533     1          0.5  ...        0             1     0\n",
              "999           1270     1          0.5  ...        1             0     1\n",
              "\n",
              "[1000 rows x 20 columns]"
            ]
          },
          "metadata": {
            "tags": []
          },
          "execution_count": 5
        }
      ]
    },
    {
      "cell_type": "markdown",
      "metadata": {
        "id": "WYf3oQytqEbP"
      },
      "source": [
        "The missing values are checked before applying data analysis methods, so more precise deductions and visualizations can be observed."
      ]
    },
    {
      "cell_type": "code",
      "metadata": {
        "colab": {
          "base_uri": "https://localhost:8080/"
        },
        "id": "Eeoep5zFpoFy",
        "outputId": "ee911fe6-9524-44b2-fd20-cdf3b29f708b"
      },
      "source": [
        "# check null elements in the dataset\n",
        "train.isnull().value_counts()"
      ],
      "execution_count": null,
      "outputs": [
        {
          "output_type": "execute_result",
          "data": {
            "text/plain": [
              "battery_power  blue   clock_speed  dual_sim  front_cam  four_g  int_memory  m_dep  mobile_wt  n_cores  primary_cam  px_height  px_width  ram    screen_heig  screen_weig  talk_time  three_g  touch_screen  wifi   price_range\n",
              "False          False  False        False     False      False   False       False  False      False    False        False      False     False  False        False        False      False    False         False  False          2000\n",
              "dtype: int64"
            ]
          },
          "metadata": {
            "tags": []
          },
          "execution_count": 6
        }
      ]
    },
    {
      "cell_type": "code",
      "metadata": {
        "colab": {
          "base_uri": "https://localhost:8080/"
        },
        "id": "VTM3obL1qCDN",
        "outputId": "7210273b-6427-4223-b925-aa8ac369d573"
      },
      "source": [
        "test_x.isnull().value_counts()"
      ],
      "execution_count": null,
      "outputs": [
        {
          "output_type": "execute_result",
          "data": {
            "text/plain": [
              "battery_power  blue   clock_speed  dual_sim  front_cam  four_g  int_memory  m_dep  mobile_wt  n_cores  primary_cam  px_height  px_width  ram    screen_heig  screen_weig  talk_time  three_g  touch_screen  wifi \n",
              "False          False  False        False     False      False   False       False  False      False    False        False      False     False  False        False        False      False    False         False    1000\n",
              "dtype: int64"
            ]
          },
          "metadata": {
            "tags": []
          },
          "execution_count": 7
        }
      ]
    },
    {
      "cell_type": "markdown",
      "metadata": {
        "id": "WjEoM3YeqUy7"
      },
      "source": [
        "In the chosen datasets, there is no null elements and datasets are ready to work."
      ]
    },
    {
      "cell_type": "markdown",
      "metadata": {
        "id": "Od-Rh1_xqkR2"
      },
      "source": [
        "---\n",
        "\n",
        "As next step, the data that dealt with is examined. The descriptive statistical analysis is observed via table from \".describe()\" function. With the help of this function any anomaly can be detected by checking the count or min max values etc."
      ]
    },
    {
      "cell_type": "code",
      "metadata": {
        "colab": {
          "base_uri": "https://localhost:8080/",
          "height": 317
        },
        "id": "O4YmpBEcoOmV",
        "outputId": "737cb0a9-4912-48d4-ac0c-771bf2b1ab2e"
      },
      "source": [
        "# analyze the data \n",
        "train.describe()"
      ],
      "execution_count": null,
      "outputs": [
        {
          "output_type": "execute_result",
          "data": {
            "text/html": [
              "<div>\n",
              "<style scoped>\n",
              "    .dataframe tbody tr th:only-of-type {\n",
              "        vertical-align: middle;\n",
              "    }\n",
              "\n",
              "    .dataframe tbody tr th {\n",
              "        vertical-align: top;\n",
              "    }\n",
              "\n",
              "    .dataframe thead th {\n",
              "        text-align: right;\n",
              "    }\n",
              "</style>\n",
              "<table border=\"1\" class=\"dataframe\">\n",
              "  <thead>\n",
              "    <tr style=\"text-align: right;\">\n",
              "      <th></th>\n",
              "      <th>battery_power</th>\n",
              "      <th>blue</th>\n",
              "      <th>clock_speed</th>\n",
              "      <th>dual_sim</th>\n",
              "      <th>front_cam</th>\n",
              "      <th>four_g</th>\n",
              "      <th>int_memory</th>\n",
              "      <th>m_dep</th>\n",
              "      <th>mobile_wt</th>\n",
              "      <th>n_cores</th>\n",
              "      <th>primary_cam</th>\n",
              "      <th>px_height</th>\n",
              "      <th>px_width</th>\n",
              "      <th>ram</th>\n",
              "      <th>screen_heig</th>\n",
              "      <th>screen_weig</th>\n",
              "      <th>talk_time</th>\n",
              "      <th>three_g</th>\n",
              "      <th>touch_screen</th>\n",
              "      <th>wifi</th>\n",
              "      <th>price_range</th>\n",
              "    </tr>\n",
              "  </thead>\n",
              "  <tbody>\n",
              "    <tr>\n",
              "      <th>count</th>\n",
              "      <td>2000.000000</td>\n",
              "      <td>2000.0000</td>\n",
              "      <td>2000.000000</td>\n",
              "      <td>2000.000000</td>\n",
              "      <td>2000.000000</td>\n",
              "      <td>2000.000000</td>\n",
              "      <td>2000.000000</td>\n",
              "      <td>2000.000000</td>\n",
              "      <td>2000.000000</td>\n",
              "      <td>2000.000000</td>\n",
              "      <td>2000.000000</td>\n",
              "      <td>2000.000000</td>\n",
              "      <td>2000.000000</td>\n",
              "      <td>2000.000000</td>\n",
              "      <td>2000.000000</td>\n",
              "      <td>2000.000000</td>\n",
              "      <td>2000.000000</td>\n",
              "      <td>2000.000000</td>\n",
              "      <td>2000.000000</td>\n",
              "      <td>2000.000000</td>\n",
              "      <td>2000.000000</td>\n",
              "    </tr>\n",
              "    <tr>\n",
              "      <th>mean</th>\n",
              "      <td>1238.518500</td>\n",
              "      <td>0.4950</td>\n",
              "      <td>1.522250</td>\n",
              "      <td>0.509500</td>\n",
              "      <td>4.309500</td>\n",
              "      <td>0.521500</td>\n",
              "      <td>32.046500</td>\n",
              "      <td>0.501750</td>\n",
              "      <td>140.249000</td>\n",
              "      <td>4.520500</td>\n",
              "      <td>9.916500</td>\n",
              "      <td>645.108000</td>\n",
              "      <td>1251.515500</td>\n",
              "      <td>2124.213000</td>\n",
              "      <td>12.306500</td>\n",
              "      <td>5.767000</td>\n",
              "      <td>11.011000</td>\n",
              "      <td>0.761500</td>\n",
              "      <td>0.503000</td>\n",
              "      <td>0.507000</td>\n",
              "      <td>1.500000</td>\n",
              "    </tr>\n",
              "    <tr>\n",
              "      <th>std</th>\n",
              "      <td>439.418206</td>\n",
              "      <td>0.5001</td>\n",
              "      <td>0.816004</td>\n",
              "      <td>0.500035</td>\n",
              "      <td>4.341444</td>\n",
              "      <td>0.499662</td>\n",
              "      <td>18.145715</td>\n",
              "      <td>0.288416</td>\n",
              "      <td>35.399655</td>\n",
              "      <td>2.287837</td>\n",
              "      <td>6.064315</td>\n",
              "      <td>443.780811</td>\n",
              "      <td>432.199447</td>\n",
              "      <td>1084.732044</td>\n",
              "      <td>4.213245</td>\n",
              "      <td>4.356398</td>\n",
              "      <td>5.463955</td>\n",
              "      <td>0.426273</td>\n",
              "      <td>0.500116</td>\n",
              "      <td>0.500076</td>\n",
              "      <td>1.118314</td>\n",
              "    </tr>\n",
              "    <tr>\n",
              "      <th>min</th>\n",
              "      <td>501.000000</td>\n",
              "      <td>0.0000</td>\n",
              "      <td>0.500000</td>\n",
              "      <td>0.000000</td>\n",
              "      <td>0.000000</td>\n",
              "      <td>0.000000</td>\n",
              "      <td>2.000000</td>\n",
              "      <td>0.100000</td>\n",
              "      <td>80.000000</td>\n",
              "      <td>1.000000</td>\n",
              "      <td>0.000000</td>\n",
              "      <td>0.000000</td>\n",
              "      <td>500.000000</td>\n",
              "      <td>256.000000</td>\n",
              "      <td>5.000000</td>\n",
              "      <td>0.000000</td>\n",
              "      <td>2.000000</td>\n",
              "      <td>0.000000</td>\n",
              "      <td>0.000000</td>\n",
              "      <td>0.000000</td>\n",
              "      <td>0.000000</td>\n",
              "    </tr>\n",
              "    <tr>\n",
              "      <th>25%</th>\n",
              "      <td>851.750000</td>\n",
              "      <td>0.0000</td>\n",
              "      <td>0.700000</td>\n",
              "      <td>0.000000</td>\n",
              "      <td>1.000000</td>\n",
              "      <td>0.000000</td>\n",
              "      <td>16.000000</td>\n",
              "      <td>0.200000</td>\n",
              "      <td>109.000000</td>\n",
              "      <td>3.000000</td>\n",
              "      <td>5.000000</td>\n",
              "      <td>282.750000</td>\n",
              "      <td>874.750000</td>\n",
              "      <td>1207.500000</td>\n",
              "      <td>9.000000</td>\n",
              "      <td>2.000000</td>\n",
              "      <td>6.000000</td>\n",
              "      <td>1.000000</td>\n",
              "      <td>0.000000</td>\n",
              "      <td>0.000000</td>\n",
              "      <td>0.750000</td>\n",
              "    </tr>\n",
              "    <tr>\n",
              "      <th>50%</th>\n",
              "      <td>1226.000000</td>\n",
              "      <td>0.0000</td>\n",
              "      <td>1.500000</td>\n",
              "      <td>1.000000</td>\n",
              "      <td>3.000000</td>\n",
              "      <td>1.000000</td>\n",
              "      <td>32.000000</td>\n",
              "      <td>0.500000</td>\n",
              "      <td>141.000000</td>\n",
              "      <td>4.000000</td>\n",
              "      <td>10.000000</td>\n",
              "      <td>564.000000</td>\n",
              "      <td>1247.000000</td>\n",
              "      <td>2146.500000</td>\n",
              "      <td>12.000000</td>\n",
              "      <td>5.000000</td>\n",
              "      <td>11.000000</td>\n",
              "      <td>1.000000</td>\n",
              "      <td>1.000000</td>\n",
              "      <td>1.000000</td>\n",
              "      <td>1.500000</td>\n",
              "    </tr>\n",
              "    <tr>\n",
              "      <th>75%</th>\n",
              "      <td>1615.250000</td>\n",
              "      <td>1.0000</td>\n",
              "      <td>2.200000</td>\n",
              "      <td>1.000000</td>\n",
              "      <td>7.000000</td>\n",
              "      <td>1.000000</td>\n",
              "      <td>48.000000</td>\n",
              "      <td>0.800000</td>\n",
              "      <td>170.000000</td>\n",
              "      <td>7.000000</td>\n",
              "      <td>15.000000</td>\n",
              "      <td>947.250000</td>\n",
              "      <td>1633.000000</td>\n",
              "      <td>3064.500000</td>\n",
              "      <td>16.000000</td>\n",
              "      <td>9.000000</td>\n",
              "      <td>16.000000</td>\n",
              "      <td>1.000000</td>\n",
              "      <td>1.000000</td>\n",
              "      <td>1.000000</td>\n",
              "      <td>2.250000</td>\n",
              "    </tr>\n",
              "    <tr>\n",
              "      <th>max</th>\n",
              "      <td>1998.000000</td>\n",
              "      <td>1.0000</td>\n",
              "      <td>3.000000</td>\n",
              "      <td>1.000000</td>\n",
              "      <td>19.000000</td>\n",
              "      <td>1.000000</td>\n",
              "      <td>64.000000</td>\n",
              "      <td>1.000000</td>\n",
              "      <td>200.000000</td>\n",
              "      <td>8.000000</td>\n",
              "      <td>20.000000</td>\n",
              "      <td>1960.000000</td>\n",
              "      <td>1998.000000</td>\n",
              "      <td>3998.000000</td>\n",
              "      <td>19.000000</td>\n",
              "      <td>18.000000</td>\n",
              "      <td>20.000000</td>\n",
              "      <td>1.000000</td>\n",
              "      <td>1.000000</td>\n",
              "      <td>1.000000</td>\n",
              "      <td>3.000000</td>\n",
              "    </tr>\n",
              "  </tbody>\n",
              "</table>\n",
              "</div>"
            ],
            "text/plain": [
              "       battery_power       blue  ...         wifi  price_range\n",
              "count    2000.000000  2000.0000  ...  2000.000000  2000.000000\n",
              "mean     1238.518500     0.4950  ...     0.507000     1.500000\n",
              "std       439.418206     0.5001  ...     0.500076     1.118314\n",
              "min       501.000000     0.0000  ...     0.000000     0.000000\n",
              "25%       851.750000     0.0000  ...     0.000000     0.750000\n",
              "50%      1226.000000     0.0000  ...     1.000000     1.500000\n",
              "75%      1615.250000     1.0000  ...     1.000000     2.250000\n",
              "max      1998.000000     1.0000  ...     1.000000     3.000000\n",
              "\n",
              "[8 rows x 21 columns]"
            ]
          },
          "metadata": {
            "tags": []
          },
          "execution_count": 8
        }
      ]
    },
    {
      "cell_type": "markdown",
      "metadata": {
        "id": "8ZJVwYDhsUDp"
      },
      "source": [
        "In the following cell, the data is analysed after classifying the data with respect to its labels. The change in the feature values with respect to varying price range classes is monitored via this table."
      ]
    },
    {
      "cell_type": "code",
      "metadata": {
        "colab": {
          "base_uri": "https://localhost:8080/",
          "height": 224
        },
        "id": "p-Aq3Saeoyz6",
        "outputId": "d25e1613-0252-4e84-caec-f6a4f4aeea0b"
      },
      "source": [
        "# check the mean of features wrt price_range label\n",
        "train.groupby('price_range').mean()"
      ],
      "execution_count": null,
      "outputs": [
        {
          "output_type": "execute_result",
          "data": {
            "text/html": [
              "<div>\n",
              "<style scoped>\n",
              "    .dataframe tbody tr th:only-of-type {\n",
              "        vertical-align: middle;\n",
              "    }\n",
              "\n",
              "    .dataframe tbody tr th {\n",
              "        vertical-align: top;\n",
              "    }\n",
              "\n",
              "    .dataframe thead th {\n",
              "        text-align: right;\n",
              "    }\n",
              "</style>\n",
              "<table border=\"1\" class=\"dataframe\">\n",
              "  <thead>\n",
              "    <tr style=\"text-align: right;\">\n",
              "      <th></th>\n",
              "      <th>battery_power</th>\n",
              "      <th>blue</th>\n",
              "      <th>clock_speed</th>\n",
              "      <th>dual_sim</th>\n",
              "      <th>front_cam</th>\n",
              "      <th>four_g</th>\n",
              "      <th>int_memory</th>\n",
              "      <th>m_dep</th>\n",
              "      <th>mobile_wt</th>\n",
              "      <th>n_cores</th>\n",
              "      <th>primary_cam</th>\n",
              "      <th>px_height</th>\n",
              "      <th>px_width</th>\n",
              "      <th>ram</th>\n",
              "      <th>screen_heig</th>\n",
              "      <th>screen_weig</th>\n",
              "      <th>talk_time</th>\n",
              "      <th>three_g</th>\n",
              "      <th>touch_screen</th>\n",
              "      <th>wifi</th>\n",
              "    </tr>\n",
              "    <tr>\n",
              "      <th>price_range</th>\n",
              "      <th></th>\n",
              "      <th></th>\n",
              "      <th></th>\n",
              "      <th></th>\n",
              "      <th></th>\n",
              "      <th></th>\n",
              "      <th></th>\n",
              "      <th></th>\n",
              "      <th></th>\n",
              "      <th></th>\n",
              "      <th></th>\n",
              "      <th></th>\n",
              "      <th></th>\n",
              "      <th></th>\n",
              "      <th></th>\n",
              "      <th></th>\n",
              "      <th></th>\n",
              "      <th></th>\n",
              "      <th></th>\n",
              "      <th></th>\n",
              "    </tr>\n",
              "  </thead>\n",
              "  <tbody>\n",
              "    <tr>\n",
              "      <th>0</th>\n",
              "      <td>1116.902</td>\n",
              "      <td>0.486</td>\n",
              "      <td>1.5502</td>\n",
              "      <td>0.500</td>\n",
              "      <td>4.084</td>\n",
              "      <td>0.518</td>\n",
              "      <td>31.174</td>\n",
              "      <td>0.4902</td>\n",
              "      <td>140.552</td>\n",
              "      <td>4.600</td>\n",
              "      <td>9.574</td>\n",
              "      <td>536.408</td>\n",
              "      <td>1150.270</td>\n",
              "      <td>785.314</td>\n",
              "      <td>12.324</td>\n",
              "      <td>5.682</td>\n",
              "      <td>10.612</td>\n",
              "      <td>0.746</td>\n",
              "      <td>0.524</td>\n",
              "      <td>0.496</td>\n",
              "    </tr>\n",
              "    <tr>\n",
              "      <th>1</th>\n",
              "      <td>1228.868</td>\n",
              "      <td>0.490</td>\n",
              "      <td>1.4886</td>\n",
              "      <td>0.510</td>\n",
              "      <td>4.340</td>\n",
              "      <td>0.524</td>\n",
              "      <td>32.116</td>\n",
              "      <td>0.5240</td>\n",
              "      <td>140.510</td>\n",
              "      <td>4.298</td>\n",
              "      <td>9.924</td>\n",
              "      <td>666.892</td>\n",
              "      <td>1251.908</td>\n",
              "      <td>1679.490</td>\n",
              "      <td>12.212</td>\n",
              "      <td>5.544</td>\n",
              "      <td>11.362</td>\n",
              "      <td>0.756</td>\n",
              "      <td>0.522</td>\n",
              "      <td>0.504</td>\n",
              "    </tr>\n",
              "    <tr>\n",
              "      <th>2</th>\n",
              "      <td>1228.320</td>\n",
              "      <td>0.486</td>\n",
              "      <td>1.5298</td>\n",
              "      <td>0.498</td>\n",
              "      <td>4.498</td>\n",
              "      <td>0.494</td>\n",
              "      <td>30.920</td>\n",
              "      <td>0.4908</td>\n",
              "      <td>143.614</td>\n",
              "      <td>4.682</td>\n",
              "      <td>10.018</td>\n",
              "      <td>632.284</td>\n",
              "      <td>1234.046</td>\n",
              "      <td>2582.816</td>\n",
              "      <td>12.010</td>\n",
              "      <td>5.714</td>\n",
              "      <td>10.972</td>\n",
              "      <td>0.774</td>\n",
              "      <td>0.470</td>\n",
              "      <td>0.504</td>\n",
              "    </tr>\n",
              "    <tr>\n",
              "      <th>3</th>\n",
              "      <td>1379.984</td>\n",
              "      <td>0.518</td>\n",
              "      <td>1.5204</td>\n",
              "      <td>0.530</td>\n",
              "      <td>4.316</td>\n",
              "      <td>0.550</td>\n",
              "      <td>33.976</td>\n",
              "      <td>0.5020</td>\n",
              "      <td>136.320</td>\n",
              "      <td>4.502</td>\n",
              "      <td>10.150</td>\n",
              "      <td>744.848</td>\n",
              "      <td>1369.838</td>\n",
              "      <td>3449.232</td>\n",
              "      <td>12.680</td>\n",
              "      <td>6.128</td>\n",
              "      <td>11.098</td>\n",
              "      <td>0.770</td>\n",
              "      <td>0.496</td>\n",
              "      <td>0.524</td>\n",
              "    </tr>\n",
              "  </tbody>\n",
              "</table>\n",
              "</div>"
            ],
            "text/plain": [
              "             battery_power   blue  clock_speed  ...  three_g  touch_screen   wifi\n",
              "price_range                                     ...                              \n",
              "0                 1116.902  0.486       1.5502  ...    0.746         0.524  0.496\n",
              "1                 1228.868  0.490       1.4886  ...    0.756         0.522  0.504\n",
              "2                 1228.320  0.486       1.5298  ...    0.774         0.470  0.504\n",
              "3                 1379.984  0.518       1.5204  ...    0.770         0.496  0.524\n",
              "\n",
              "[4 rows x 20 columns]"
            ]
          },
          "metadata": {
            "tags": []
          },
          "execution_count": 9
        }
      ]
    },
    {
      "cell_type": "markdown",
      "metadata": {
        "id": "nQjeLy29tJy4"
      },
      "source": [
        "From the table above, it is clearly seen that some features like battery power, internal memory, and ram are correlated with the price range. An increase in those features can cause an increase in the price, so do its class."
      ]
    },
    {
      "cell_type": "markdown",
      "metadata": {
        "id": "gVC15Cj-tp7y"
      },
      "source": [
        "---\n",
        "\n",
        "The following cell inspects the min, max, median with respect to each class. A more descriptive table compared to the former one leads more beneficial observations."
      ]
    },
    {
      "cell_type": "code",
      "metadata": {
        "colab": {
          "base_uri": "https://localhost:8080/",
          "height": 255
        },
        "id": "e0VuD0FVqXfR",
        "outputId": "e09be0e4-d0d0-4a0c-eb57-77313213280f"
      },
      "source": [
        "# inspect the distribution of data in terms of min, max, median \n",
        "train.groupby('price_range').aggregate(['min', np.median, 'max', np.mean])"
      ],
      "execution_count": null,
      "outputs": [
        {
          "output_type": "execute_result",
          "data": {
            "text/html": [
              "<div>\n",
              "<style scoped>\n",
              "    .dataframe tbody tr th:only-of-type {\n",
              "        vertical-align: middle;\n",
              "    }\n",
              "\n",
              "    .dataframe tbody tr th {\n",
              "        vertical-align: top;\n",
              "    }\n",
              "\n",
              "    .dataframe thead tr th {\n",
              "        text-align: left;\n",
              "    }\n",
              "\n",
              "    .dataframe thead tr:last-of-type th {\n",
              "        text-align: right;\n",
              "    }\n",
              "</style>\n",
              "<table border=\"1\" class=\"dataframe\">\n",
              "  <thead>\n",
              "    <tr>\n",
              "      <th></th>\n",
              "      <th colspan=\"4\" halign=\"left\">battery_power</th>\n",
              "      <th colspan=\"4\" halign=\"left\">blue</th>\n",
              "      <th colspan=\"4\" halign=\"left\">clock_speed</th>\n",
              "      <th colspan=\"4\" halign=\"left\">dual_sim</th>\n",
              "      <th colspan=\"4\" halign=\"left\">front_cam</th>\n",
              "      <th colspan=\"4\" halign=\"left\">four_g</th>\n",
              "      <th colspan=\"4\" halign=\"left\">int_memory</th>\n",
              "      <th colspan=\"4\" halign=\"left\">m_dep</th>\n",
              "      <th colspan=\"4\" halign=\"left\">mobile_wt</th>\n",
              "      <th colspan=\"4\" halign=\"left\">n_cores</th>\n",
              "      <th colspan=\"4\" halign=\"left\">primary_cam</th>\n",
              "      <th colspan=\"4\" halign=\"left\">px_height</th>\n",
              "      <th colspan=\"4\" halign=\"left\">px_width</th>\n",
              "      <th colspan=\"4\" halign=\"left\">ram</th>\n",
              "      <th colspan=\"4\" halign=\"left\">screen_heig</th>\n",
              "      <th colspan=\"4\" halign=\"left\">screen_weig</th>\n",
              "      <th colspan=\"4\" halign=\"left\">talk_time</th>\n",
              "      <th colspan=\"4\" halign=\"left\">three_g</th>\n",
              "      <th colspan=\"4\" halign=\"left\">touch_screen</th>\n",
              "      <th colspan=\"4\" halign=\"left\">wifi</th>\n",
              "    </tr>\n",
              "    <tr>\n",
              "      <th></th>\n",
              "      <th>min</th>\n",
              "      <th>median</th>\n",
              "      <th>max</th>\n",
              "      <th>mean</th>\n",
              "      <th>min</th>\n",
              "      <th>median</th>\n",
              "      <th>max</th>\n",
              "      <th>mean</th>\n",
              "      <th>min</th>\n",
              "      <th>median</th>\n",
              "      <th>max</th>\n",
              "      <th>mean</th>\n",
              "      <th>min</th>\n",
              "      <th>median</th>\n",
              "      <th>max</th>\n",
              "      <th>mean</th>\n",
              "      <th>min</th>\n",
              "      <th>median</th>\n",
              "      <th>max</th>\n",
              "      <th>mean</th>\n",
              "      <th>min</th>\n",
              "      <th>median</th>\n",
              "      <th>max</th>\n",
              "      <th>mean</th>\n",
              "      <th>min</th>\n",
              "      <th>median</th>\n",
              "      <th>max</th>\n",
              "      <th>mean</th>\n",
              "      <th>min</th>\n",
              "      <th>median</th>\n",
              "      <th>max</th>\n",
              "      <th>mean</th>\n",
              "      <th>min</th>\n",
              "      <th>median</th>\n",
              "      <th>max</th>\n",
              "      <th>mean</th>\n",
              "      <th>min</th>\n",
              "      <th>median</th>\n",
              "      <th>max</th>\n",
              "      <th>mean</th>\n",
              "      <th>min</th>\n",
              "      <th>median</th>\n",
              "      <th>max</th>\n",
              "      <th>mean</th>\n",
              "      <th>min</th>\n",
              "      <th>median</th>\n",
              "      <th>max</th>\n",
              "      <th>mean</th>\n",
              "      <th>min</th>\n",
              "      <th>median</th>\n",
              "      <th>max</th>\n",
              "      <th>mean</th>\n",
              "      <th>min</th>\n",
              "      <th>median</th>\n",
              "      <th>max</th>\n",
              "      <th>mean</th>\n",
              "      <th>min</th>\n",
              "      <th>median</th>\n",
              "      <th>max</th>\n",
              "      <th>mean</th>\n",
              "      <th>min</th>\n",
              "      <th>median</th>\n",
              "      <th>max</th>\n",
              "      <th>mean</th>\n",
              "      <th>min</th>\n",
              "      <th>median</th>\n",
              "      <th>max</th>\n",
              "      <th>mean</th>\n",
              "      <th>min</th>\n",
              "      <th>median</th>\n",
              "      <th>max</th>\n",
              "      <th>mean</th>\n",
              "      <th>min</th>\n",
              "      <th>median</th>\n",
              "      <th>max</th>\n",
              "      <th>mean</th>\n",
              "      <th>min</th>\n",
              "      <th>median</th>\n",
              "      <th>max</th>\n",
              "      <th>mean</th>\n",
              "    </tr>\n",
              "    <tr>\n",
              "      <th>price_range</th>\n",
              "      <th></th>\n",
              "      <th></th>\n",
              "      <th></th>\n",
              "      <th></th>\n",
              "      <th></th>\n",
              "      <th></th>\n",
              "      <th></th>\n",
              "      <th></th>\n",
              "      <th></th>\n",
              "      <th></th>\n",
              "      <th></th>\n",
              "      <th></th>\n",
              "      <th></th>\n",
              "      <th></th>\n",
              "      <th></th>\n",
              "      <th></th>\n",
              "      <th></th>\n",
              "      <th></th>\n",
              "      <th></th>\n",
              "      <th></th>\n",
              "      <th></th>\n",
              "      <th></th>\n",
              "      <th></th>\n",
              "      <th></th>\n",
              "      <th></th>\n",
              "      <th></th>\n",
              "      <th></th>\n",
              "      <th></th>\n",
              "      <th></th>\n",
              "      <th></th>\n",
              "      <th></th>\n",
              "      <th></th>\n",
              "      <th></th>\n",
              "      <th></th>\n",
              "      <th></th>\n",
              "      <th></th>\n",
              "      <th></th>\n",
              "      <th></th>\n",
              "      <th></th>\n",
              "      <th></th>\n",
              "      <th></th>\n",
              "      <th></th>\n",
              "      <th></th>\n",
              "      <th></th>\n",
              "      <th></th>\n",
              "      <th></th>\n",
              "      <th></th>\n",
              "      <th></th>\n",
              "      <th></th>\n",
              "      <th></th>\n",
              "      <th></th>\n",
              "      <th></th>\n",
              "      <th></th>\n",
              "      <th></th>\n",
              "      <th></th>\n",
              "      <th></th>\n",
              "      <th></th>\n",
              "      <th></th>\n",
              "      <th></th>\n",
              "      <th></th>\n",
              "      <th></th>\n",
              "      <th></th>\n",
              "      <th></th>\n",
              "      <th></th>\n",
              "      <th></th>\n",
              "      <th></th>\n",
              "      <th></th>\n",
              "      <th></th>\n",
              "      <th></th>\n",
              "      <th></th>\n",
              "      <th></th>\n",
              "      <th></th>\n",
              "      <th></th>\n",
              "      <th></th>\n",
              "      <th></th>\n",
              "      <th></th>\n",
              "      <th></th>\n",
              "      <th></th>\n",
              "      <th></th>\n",
              "      <th></th>\n",
              "    </tr>\n",
              "  </thead>\n",
              "  <tbody>\n",
              "    <tr>\n",
              "      <th>0</th>\n",
              "      <td>503</td>\n",
              "      <td>1066.0</td>\n",
              "      <td>1994</td>\n",
              "      <td>1116.902</td>\n",
              "      <td>0</td>\n",
              "      <td>0</td>\n",
              "      <td>1</td>\n",
              "      <td>0.486</td>\n",
              "      <td>0.5</td>\n",
              "      <td>1.55</td>\n",
              "      <td>3.0</td>\n",
              "      <td>1.5502</td>\n",
              "      <td>0</td>\n",
              "      <td>0.5</td>\n",
              "      <td>1</td>\n",
              "      <td>0.500</td>\n",
              "      <td>0</td>\n",
              "      <td>3</td>\n",
              "      <td>19</td>\n",
              "      <td>4.084</td>\n",
              "      <td>0</td>\n",
              "      <td>1</td>\n",
              "      <td>1</td>\n",
              "      <td>0.518</td>\n",
              "      <td>2</td>\n",
              "      <td>30.0</td>\n",
              "      <td>64</td>\n",
              "      <td>31.174</td>\n",
              "      <td>0.1</td>\n",
              "      <td>0.5</td>\n",
              "      <td>1.0</td>\n",
              "      <td>0.4902</td>\n",
              "      <td>80</td>\n",
              "      <td>142</td>\n",
              "      <td>200</td>\n",
              "      <td>140.552</td>\n",
              "      <td>1</td>\n",
              "      <td>5</td>\n",
              "      <td>8</td>\n",
              "      <td>4.600</td>\n",
              "      <td>0</td>\n",
              "      <td>9.5</td>\n",
              "      <td>20</td>\n",
              "      <td>9.574</td>\n",
              "      <td>1</td>\n",
              "      <td>465.5</td>\n",
              "      <td>1878</td>\n",
              "      <td>536.408</td>\n",
              "      <td>500</td>\n",
              "      <td>1132.5</td>\n",
              "      <td>1989</td>\n",
              "      <td>1150.270</td>\n",
              "      <td>256</td>\n",
              "      <td>719.5</td>\n",
              "      <td>1974</td>\n",
              "      <td>785.314</td>\n",
              "      <td>5</td>\n",
              "      <td>12</td>\n",
              "      <td>19</td>\n",
              "      <td>12.324</td>\n",
              "      <td>0</td>\n",
              "      <td>5</td>\n",
              "      <td>18</td>\n",
              "      <td>5.682</td>\n",
              "      <td>2</td>\n",
              "      <td>10</td>\n",
              "      <td>20</td>\n",
              "      <td>10.612</td>\n",
              "      <td>0</td>\n",
              "      <td>1</td>\n",
              "      <td>1</td>\n",
              "      <td>0.746</td>\n",
              "      <td>0</td>\n",
              "      <td>1</td>\n",
              "      <td>1</td>\n",
              "      <td>0.524</td>\n",
              "      <td>0</td>\n",
              "      <td>0</td>\n",
              "      <td>1</td>\n",
              "      <td>0.496</td>\n",
              "    </tr>\n",
              "    <tr>\n",
              "      <th>1</th>\n",
              "      <td>501</td>\n",
              "      <td>1206.0</td>\n",
              "      <td>1996</td>\n",
              "      <td>1228.868</td>\n",
              "      <td>0</td>\n",
              "      <td>0</td>\n",
              "      <td>1</td>\n",
              "      <td>0.490</td>\n",
              "      <td>0.5</td>\n",
              "      <td>1.50</td>\n",
              "      <td>3.0</td>\n",
              "      <td>1.4886</td>\n",
              "      <td>0</td>\n",
              "      <td>1.0</td>\n",
              "      <td>1</td>\n",
              "      <td>0.510</td>\n",
              "      <td>0</td>\n",
              "      <td>3</td>\n",
              "      <td>18</td>\n",
              "      <td>4.340</td>\n",
              "      <td>0</td>\n",
              "      <td>1</td>\n",
              "      <td>1</td>\n",
              "      <td>0.524</td>\n",
              "      <td>2</td>\n",
              "      <td>32.0</td>\n",
              "      <td>64</td>\n",
              "      <td>32.116</td>\n",
              "      <td>0.1</td>\n",
              "      <td>0.5</td>\n",
              "      <td>1.0</td>\n",
              "      <td>0.5240</td>\n",
              "      <td>80</td>\n",
              "      <td>141</td>\n",
              "      <td>200</td>\n",
              "      <td>140.510</td>\n",
              "      <td>1</td>\n",
              "      <td>4</td>\n",
              "      <td>8</td>\n",
              "      <td>4.298</td>\n",
              "      <td>0</td>\n",
              "      <td>10.0</td>\n",
              "      <td>20</td>\n",
              "      <td>9.924</td>\n",
              "      <td>0</td>\n",
              "      <td>606.0</td>\n",
              "      <td>1914</td>\n",
              "      <td>666.892</td>\n",
              "      <td>500</td>\n",
              "      <td>1223.0</td>\n",
              "      <td>1998</td>\n",
              "      <td>1251.908</td>\n",
              "      <td>387</td>\n",
              "      <td>1686.5</td>\n",
              "      <td>2811</td>\n",
              "      <td>1679.490</td>\n",
              "      <td>5</td>\n",
              "      <td>12</td>\n",
              "      <td>19</td>\n",
              "      <td>12.212</td>\n",
              "      <td>0</td>\n",
              "      <td>5</td>\n",
              "      <td>18</td>\n",
              "      <td>5.544</td>\n",
              "      <td>2</td>\n",
              "      <td>12</td>\n",
              "      <td>20</td>\n",
              "      <td>11.362</td>\n",
              "      <td>0</td>\n",
              "      <td>1</td>\n",
              "      <td>1</td>\n",
              "      <td>0.756</td>\n",
              "      <td>0</td>\n",
              "      <td>1</td>\n",
              "      <td>1</td>\n",
              "      <td>0.522</td>\n",
              "      <td>0</td>\n",
              "      <td>1</td>\n",
              "      <td>1</td>\n",
              "      <td>0.504</td>\n",
              "    </tr>\n",
              "    <tr>\n",
              "      <th>2</th>\n",
              "      <td>501</td>\n",
              "      <td>1219.5</td>\n",
              "      <td>1998</td>\n",
              "      <td>1228.320</td>\n",
              "      <td>0</td>\n",
              "      <td>0</td>\n",
              "      <td>1</td>\n",
              "      <td>0.486</td>\n",
              "      <td>0.5</td>\n",
              "      <td>1.50</td>\n",
              "      <td>3.0</td>\n",
              "      <td>1.5298</td>\n",
              "      <td>0</td>\n",
              "      <td>0.0</td>\n",
              "      <td>1</td>\n",
              "      <td>0.498</td>\n",
              "      <td>0</td>\n",
              "      <td>3</td>\n",
              "      <td>18</td>\n",
              "      <td>4.498</td>\n",
              "      <td>0</td>\n",
              "      <td>0</td>\n",
              "      <td>1</td>\n",
              "      <td>0.494</td>\n",
              "      <td>2</td>\n",
              "      <td>30.0</td>\n",
              "      <td>64</td>\n",
              "      <td>30.920</td>\n",
              "      <td>0.1</td>\n",
              "      <td>0.5</td>\n",
              "      <td>1.0</td>\n",
              "      <td>0.4908</td>\n",
              "      <td>80</td>\n",
              "      <td>145</td>\n",
              "      <td>200</td>\n",
              "      <td>143.614</td>\n",
              "      <td>1</td>\n",
              "      <td>5</td>\n",
              "      <td>8</td>\n",
              "      <td>4.682</td>\n",
              "      <td>0</td>\n",
              "      <td>10.0</td>\n",
              "      <td>20</td>\n",
              "      <td>10.018</td>\n",
              "      <td>10</td>\n",
              "      <td>538.5</td>\n",
              "      <td>1960</td>\n",
              "      <td>632.284</td>\n",
              "      <td>508</td>\n",
              "      <td>1221.5</td>\n",
              "      <td>1997</td>\n",
              "      <td>1234.046</td>\n",
              "      <td>1185</td>\n",
              "      <td>2577.0</td>\n",
              "      <td>3916</td>\n",
              "      <td>2582.816</td>\n",
              "      <td>5</td>\n",
              "      <td>12</td>\n",
              "      <td>19</td>\n",
              "      <td>12.010</td>\n",
              "      <td>0</td>\n",
              "      <td>5</td>\n",
              "      <td>17</td>\n",
              "      <td>5.714</td>\n",
              "      <td>2</td>\n",
              "      <td>11</td>\n",
              "      <td>20</td>\n",
              "      <td>10.972</td>\n",
              "      <td>0</td>\n",
              "      <td>1</td>\n",
              "      <td>1</td>\n",
              "      <td>0.774</td>\n",
              "      <td>0</td>\n",
              "      <td>0</td>\n",
              "      <td>1</td>\n",
              "      <td>0.470</td>\n",
              "      <td>0</td>\n",
              "      <td>1</td>\n",
              "      <td>1</td>\n",
              "      <td>0.504</td>\n",
              "    </tr>\n",
              "    <tr>\n",
              "      <th>3</th>\n",
              "      <td>503</td>\n",
              "      <td>1449.5</td>\n",
              "      <td>1994</td>\n",
              "      <td>1379.984</td>\n",
              "      <td>0</td>\n",
              "      <td>1</td>\n",
              "      <td>1</td>\n",
              "      <td>0.518</td>\n",
              "      <td>0.5</td>\n",
              "      <td>1.50</td>\n",
              "      <td>3.0</td>\n",
              "      <td>1.5204</td>\n",
              "      <td>0</td>\n",
              "      <td>1.0</td>\n",
              "      <td>1</td>\n",
              "      <td>0.530</td>\n",
              "      <td>0</td>\n",
              "      <td>3</td>\n",
              "      <td>18</td>\n",
              "      <td>4.316</td>\n",
              "      <td>0</td>\n",
              "      <td>1</td>\n",
              "      <td>1</td>\n",
              "      <td>0.550</td>\n",
              "      <td>2</td>\n",
              "      <td>34.5</td>\n",
              "      <td>64</td>\n",
              "      <td>33.976</td>\n",
              "      <td>0.1</td>\n",
              "      <td>0.5</td>\n",
              "      <td>1.0</td>\n",
              "      <td>0.5020</td>\n",
              "      <td>80</td>\n",
              "      <td>134</td>\n",
              "      <td>200</td>\n",
              "      <td>136.320</td>\n",
              "      <td>1</td>\n",
              "      <td>5</td>\n",
              "      <td>8</td>\n",
              "      <td>4.502</td>\n",
              "      <td>0</td>\n",
              "      <td>10.0</td>\n",
              "      <td>20</td>\n",
              "      <td>10.150</td>\n",
              "      <td>0</td>\n",
              "      <td>674.0</td>\n",
              "      <td>1949</td>\n",
              "      <td>744.848</td>\n",
              "      <td>501</td>\n",
              "      <td>1415.5</td>\n",
              "      <td>1995</td>\n",
              "      <td>1369.838</td>\n",
              "      <td>2259</td>\n",
              "      <td>3509.5</td>\n",
              "      <td>3998</td>\n",
              "      <td>3449.232</td>\n",
              "      <td>5</td>\n",
              "      <td>13</td>\n",
              "      <td>19</td>\n",
              "      <td>12.680</td>\n",
              "      <td>0</td>\n",
              "      <td>5</td>\n",
              "      <td>18</td>\n",
              "      <td>6.128</td>\n",
              "      <td>2</td>\n",
              "      <td>11</td>\n",
              "      <td>20</td>\n",
              "      <td>11.098</td>\n",
              "      <td>0</td>\n",
              "      <td>1</td>\n",
              "      <td>1</td>\n",
              "      <td>0.770</td>\n",
              "      <td>0</td>\n",
              "      <td>0</td>\n",
              "      <td>1</td>\n",
              "      <td>0.496</td>\n",
              "      <td>0</td>\n",
              "      <td>1</td>\n",
              "      <td>1</td>\n",
              "      <td>0.524</td>\n",
              "    </tr>\n",
              "  </tbody>\n",
              "</table>\n",
              "</div>"
            ],
            "text/plain": [
              "            battery_power                          ... wifi                  \n",
              "                      min  median   max      mean  ...  min median max   mean\n",
              "price_range                                        ...                       \n",
              "0                     503  1066.0  1994  1116.902  ...    0      0   1  0.496\n",
              "1                     501  1206.0  1996  1228.868  ...    0      1   1  0.504\n",
              "2                     501  1219.5  1998  1228.320  ...    0      1   1  0.504\n",
              "3                     503  1449.5  1994  1379.984  ...    0      1   1  0.524\n",
              "\n",
              "[4 rows x 80 columns]"
            ]
          },
          "metadata": {
            "tags": []
          },
          "execution_count": 10
        }
      ]
    },
    {
      "cell_type": "markdown",
      "metadata": {
        "id": "a1IvuntpuZ8N"
      },
      "source": [
        "The features that can be more crucial in the price range class are examined in the cell below. "
      ]
    },
    {
      "cell_type": "code",
      "metadata": {
        "colab": {
          "base_uri": "https://localhost:8080/",
          "height": 204
        },
        "id": "_QyKlHm_uUGX",
        "outputId": "51b32409-92f2-4494-a3ea-b1b02307055e"
      },
      "source": [
        "# observe the distribution of price in pivot table for front_cam and n_cores\n",
        "\n",
        "train.groupby('price_range').aggregate({'n_cores': 'mean',\n",
        "                             'front_cam': 'mean', 'four_g': 'mean', 'dual_sim': 'mean'})\n"
      ],
      "execution_count": null,
      "outputs": [
        {
          "output_type": "execute_result",
          "data": {
            "text/html": [
              "<div>\n",
              "<style scoped>\n",
              "    .dataframe tbody tr th:only-of-type {\n",
              "        vertical-align: middle;\n",
              "    }\n",
              "\n",
              "    .dataframe tbody tr th {\n",
              "        vertical-align: top;\n",
              "    }\n",
              "\n",
              "    .dataframe thead th {\n",
              "        text-align: right;\n",
              "    }\n",
              "</style>\n",
              "<table border=\"1\" class=\"dataframe\">\n",
              "  <thead>\n",
              "    <tr style=\"text-align: right;\">\n",
              "      <th></th>\n",
              "      <th>n_cores</th>\n",
              "      <th>front_cam</th>\n",
              "      <th>four_g</th>\n",
              "      <th>dual_sim</th>\n",
              "    </tr>\n",
              "    <tr>\n",
              "      <th>price_range</th>\n",
              "      <th></th>\n",
              "      <th></th>\n",
              "      <th></th>\n",
              "      <th></th>\n",
              "    </tr>\n",
              "  </thead>\n",
              "  <tbody>\n",
              "    <tr>\n",
              "      <th>0</th>\n",
              "      <td>4.600</td>\n",
              "      <td>4.084</td>\n",
              "      <td>0.518</td>\n",
              "      <td>0.500</td>\n",
              "    </tr>\n",
              "    <tr>\n",
              "      <th>1</th>\n",
              "      <td>4.298</td>\n",
              "      <td>4.340</td>\n",
              "      <td>0.524</td>\n",
              "      <td>0.510</td>\n",
              "    </tr>\n",
              "    <tr>\n",
              "      <th>2</th>\n",
              "      <td>4.682</td>\n",
              "      <td>4.498</td>\n",
              "      <td>0.494</td>\n",
              "      <td>0.498</td>\n",
              "    </tr>\n",
              "    <tr>\n",
              "      <th>3</th>\n",
              "      <td>4.502</td>\n",
              "      <td>4.316</td>\n",
              "      <td>0.550</td>\n",
              "      <td>0.530</td>\n",
              "    </tr>\n",
              "  </tbody>\n",
              "</table>\n",
              "</div>"
            ],
            "text/plain": [
              "             n_cores  front_cam  four_g  dual_sim\n",
              "price_range                                      \n",
              "0              4.600      4.084   0.518     0.500\n",
              "1              4.298      4.340   0.524     0.510\n",
              "2              4.682      4.498   0.494     0.498\n",
              "3              4.502      4.316   0.550     0.530"
            ]
          },
          "metadata": {
            "tags": []
          },
          "execution_count": 11
        }
      ]
    },
    {
      "cell_type": "markdown",
      "metadata": {
        "id": "qe4YDXGivCvJ"
      },
      "source": [
        "However, a crucial correlation with the price range could not be detected from the values."
      ]
    },
    {
      "cell_type": "markdown",
      "metadata": {
        "id": "4-CzLBDIw_gF"
      },
      "source": [
        "---\n",
        "\n",
        "The correlation between the features are examined. These correlations are meaningful in PCA. In the following parts of the project PCA can be applied to facilitate machine learning methods with reduced data dimensions."
      ]
    },
    {
      "cell_type": "code",
      "metadata": {
        "colab": {
          "base_uri": "https://localhost:8080/",
          "height": 593
        },
        "id": "8sdb9OMM_agj",
        "outputId": "ed670005-436c-47b5-a8f3-f847620111f9"
      },
      "source": [
        "init = train['n_cores'].min()\n",
        "last = train['n_cores'].max()\n",
        "n_core = pd.cut(train['n_cores'], np.linspace(init-1, last, 5))\n",
        "\n",
        "\n",
        "init = train['front_cam'].min()\n",
        "last = train['front_cam'].max()\n",
        "f_cam = pd.cut(train['front_cam'], np.linspace(init, last+1, 5))\n",
        "\n",
        "print('\\033[1m' + '\\t\\t\\t\\tInternal Memory')\n",
        "train.pivot_table('int_memory', ['price_range', f_cam], n_core)"
      ],
      "execution_count": null,
      "outputs": [
        {
          "output_type": "stream",
          "text": [
            "\u001b[1m\t\t\t\tInternal Memory\n"
          ],
          "name": "stdout"
        },
        {
          "output_type": "execute_result",
          "data": {
            "text/html": [
              "<div>\n",
              "<style scoped>\n",
              "    .dataframe tbody tr th:only-of-type {\n",
              "        vertical-align: middle;\n",
              "    }\n",
              "\n",
              "    .dataframe tbody tr th {\n",
              "        vertical-align: top;\n",
              "    }\n",
              "\n",
              "    .dataframe thead th {\n",
              "        text-align: right;\n",
              "    }\n",
              "</style>\n",
              "<table border=\"1\" class=\"dataframe\">\n",
              "  <thead>\n",
              "    <tr style=\"text-align: right;\">\n",
              "      <th></th>\n",
              "      <th>n_cores</th>\n",
              "      <th>(0.0, 2.0]</th>\n",
              "      <th>(2.0, 4.0]</th>\n",
              "      <th>(4.0, 6.0]</th>\n",
              "      <th>(6.0, 8.0]</th>\n",
              "    </tr>\n",
              "    <tr>\n",
              "      <th>price_range</th>\n",
              "      <th>front_cam</th>\n",
              "      <th></th>\n",
              "      <th></th>\n",
              "      <th></th>\n",
              "      <th></th>\n",
              "    </tr>\n",
              "  </thead>\n",
              "  <tbody>\n",
              "    <tr>\n",
              "      <th rowspan=\"4\" valign=\"top\">0</th>\n",
              "      <th>(0.0, 5.0]</th>\n",
              "      <td>31.314815</td>\n",
              "      <td>32.666667</td>\n",
              "      <td>32.240741</td>\n",
              "      <td>29.918033</td>\n",
              "    </tr>\n",
              "    <tr>\n",
              "      <th>(5.0, 10.0]</th>\n",
              "      <td>30.000000</td>\n",
              "      <td>32.793103</td>\n",
              "      <td>31.117647</td>\n",
              "      <td>30.409091</td>\n",
              "    </tr>\n",
              "    <tr>\n",
              "      <th>(10.0, 15.0]</th>\n",
              "      <td>31.454545</td>\n",
              "      <td>31.375000</td>\n",
              "      <td>28.250000</td>\n",
              "      <td>25.000000</td>\n",
              "    </tr>\n",
              "    <tr>\n",
              "      <th>(15.0, 20.0]</th>\n",
              "      <td>39.500000</td>\n",
              "      <td>35.000000</td>\n",
              "      <td>6.333333</td>\n",
              "      <td>20.333333</td>\n",
              "    </tr>\n",
              "    <tr>\n",
              "      <th rowspan=\"4\" valign=\"top\">1</th>\n",
              "      <th>(0.0, 5.0]</th>\n",
              "      <td>30.730159</td>\n",
              "      <td>33.314815</td>\n",
              "      <td>31.489796</td>\n",
              "      <td>31.882353</td>\n",
              "    </tr>\n",
              "    <tr>\n",
              "      <th>(5.0, 10.0]</th>\n",
              "      <td>31.636364</td>\n",
              "      <td>34.724138</td>\n",
              "      <td>28.523810</td>\n",
              "      <td>29.074074</td>\n",
              "    </tr>\n",
              "    <tr>\n",
              "      <th>(10.0, 15.0]</th>\n",
              "      <td>36.533333</td>\n",
              "      <td>31.235294</td>\n",
              "      <td>39.875000</td>\n",
              "      <td>35.166667</td>\n",
              "    </tr>\n",
              "    <tr>\n",
              "      <th>(15.0, 20.0]</th>\n",
              "      <td>37.000000</td>\n",
              "      <td>40.000000</td>\n",
              "      <td>19.000000</td>\n",
              "      <td>39.333333</td>\n",
              "    </tr>\n",
              "    <tr>\n",
              "      <th rowspan=\"4\" valign=\"top\">2</th>\n",
              "      <th>(0.0, 5.0]</th>\n",
              "      <td>32.239130</td>\n",
              "      <td>34.200000</td>\n",
              "      <td>28.780000</td>\n",
              "      <td>32.791667</td>\n",
              "    </tr>\n",
              "    <tr>\n",
              "      <th>(5.0, 10.0]</th>\n",
              "      <td>33.103448</td>\n",
              "      <td>31.827586</td>\n",
              "      <td>33.545455</td>\n",
              "      <td>27.900000</td>\n",
              "    </tr>\n",
              "    <tr>\n",
              "      <th>(10.0, 15.0]</th>\n",
              "      <td>32.125000</td>\n",
              "      <td>39.000000</td>\n",
              "      <td>20.846154</td>\n",
              "      <td>25.066667</td>\n",
              "    </tr>\n",
              "    <tr>\n",
              "      <th>(15.0, 20.0]</th>\n",
              "      <td>32.333333</td>\n",
              "      <td>17.000000</td>\n",
              "      <td>14.750000</td>\n",
              "      <td>28.500000</td>\n",
              "    </tr>\n",
              "    <tr>\n",
              "      <th rowspan=\"4\" valign=\"top\">3</th>\n",
              "      <th>(0.0, 5.0]</th>\n",
              "      <td>33.451613</td>\n",
              "      <td>37.727273</td>\n",
              "      <td>33.227273</td>\n",
              "      <td>34.116667</td>\n",
              "    </tr>\n",
              "    <tr>\n",
              "      <th>(5.0, 10.0]</th>\n",
              "      <td>29.466667</td>\n",
              "      <td>36.689655</td>\n",
              "      <td>30.294118</td>\n",
              "      <td>33.035714</td>\n",
              "    </tr>\n",
              "    <tr>\n",
              "      <th>(10.0, 15.0]</th>\n",
              "      <td>41.400000</td>\n",
              "      <td>27.000000</td>\n",
              "      <td>30.090909</td>\n",
              "      <td>42.500000</td>\n",
              "    </tr>\n",
              "    <tr>\n",
              "      <th>(15.0, 20.0]</th>\n",
              "      <td>53.500000</td>\n",
              "      <td>12.000000</td>\n",
              "      <td>29.666667</td>\n",
              "      <td>50.000000</td>\n",
              "    </tr>\n",
              "  </tbody>\n",
              "</table>\n",
              "</div>"
            ],
            "text/plain": [
              "n_cores                   (0.0, 2.0]  (2.0, 4.0]  (4.0, 6.0]  (6.0, 8.0]\n",
              "price_range front_cam                                                   \n",
              "0           (0.0, 5.0]     31.314815   32.666667   32.240741   29.918033\n",
              "            (5.0, 10.0]    30.000000   32.793103   31.117647   30.409091\n",
              "            (10.0, 15.0]   31.454545   31.375000   28.250000   25.000000\n",
              "            (15.0, 20.0]   39.500000   35.000000    6.333333   20.333333\n",
              "1           (0.0, 5.0]     30.730159   33.314815   31.489796   31.882353\n",
              "            (5.0, 10.0]    31.636364   34.724138   28.523810   29.074074\n",
              "            (10.0, 15.0]   36.533333   31.235294   39.875000   35.166667\n",
              "            (15.0, 20.0]   37.000000   40.000000   19.000000   39.333333\n",
              "2           (0.0, 5.0]     32.239130   34.200000   28.780000   32.791667\n",
              "            (5.0, 10.0]    33.103448   31.827586   33.545455   27.900000\n",
              "            (10.0, 15.0]   32.125000   39.000000   20.846154   25.066667\n",
              "            (15.0, 20.0]   32.333333   17.000000   14.750000   28.500000\n",
              "3           (0.0, 5.0]     33.451613   37.727273   33.227273   34.116667\n",
              "            (5.0, 10.0]    29.466667   36.689655   30.294118   33.035714\n",
              "            (10.0, 15.0]   41.400000   27.000000   30.090909   42.500000\n",
              "            (15.0, 20.0]   53.500000   12.000000   29.666667   50.000000"
            ]
          },
          "metadata": {
            "tags": []
          },
          "execution_count": 12
        }
      ]
    },
    {
      "cell_type": "code",
      "metadata": {
        "colab": {
          "base_uri": "https://localhost:8080/",
          "height": 301
        },
        "id": "acbxDkCoK2ZF",
        "outputId": "41b03bd5-1412-490b-d540-d44256dd713e"
      },
      "source": [
        "# use Seaborn styles\n",
        "sns.set()\n",
        "train.pivot_table('int_memory', index='price_range', columns='four_g',\n",
        "                    aggfunc='mean', fill_value=0, dropna=True,).plot()\n",
        "plt.ylabel('average internal memory');\n",
        "plt.title('4G and Average Internal Memory Relation');"
      ],
      "execution_count": null,
      "outputs": [
        {
          "output_type": "display_data",
          "data": {
            "image/png": "[encoded data removed]",
            "text/plain": [
              "<Figure size 432x288 with 1 Axes>"
            ]
          },
          "metadata": {
            "tags": []
          }
        }
      ]
    },
    {
      "cell_type": "code",
      "metadata": {
        "colab": {
          "base_uri": "https://localhost:8080/",
          "height": 969
        },
        "id": "UYkYDeAc45iD",
        "outputId": "200225e4-134f-4848-92c4-7db93b9acb10"
      },
      "source": [
        "init = train['int_memory'].min()\n",
        "last = train['int_memory'].max()\n",
        "train['inte_memory'] = pd.cut(train['int_memory'], np.linspace(init-1, last, 5))\n",
        "\n",
        "no_4g = train[(train['four_g']==0)]\n",
        "ye_4g = train[(train['four_g']==1)]\n",
        "\n",
        "\n",
        "with sns.axes_style('white'):\n",
        "    plt.figure(figsize=(5,3))\n",
        "    g = sns.factorplot(\"price_range\", data=no_4g, aspect=2,\n",
        "                       kind=\"count\", hue='inte_memory', color='orange')\n",
        "    g.set_ylabels('Number of Mobile Phones')\n",
        "    plt.title('Without 4G')\n",
        "\n",
        "\n",
        "    plt.figure(figsize=(7.5,4))\n",
        "    f = sns.factorplot(\"price_range\", data=ye_4g, aspect=2,\n",
        "                       kind=\"count\", hue='inte_memory',  color='green')\n",
        "    f.set_ylabels('Number of Mobile Phones')\n",
        "    plt.title('With 4G')"
      ],
      "execution_count": null,
      "outputs": [
        {
          "output_type": "stream",
          "text": [
            "/usr/local/lib/python3.7/dist-packages/seaborn/categorical.py:3714: UserWarning: The `factorplot` function has been renamed to `catplot`. The original name will be removed in a future release. Please update your code. Note that the default `kind` in `factorplot` (`'point'`) has changed `'strip'` in `catplot`.\n",
            "  warnings.warn(msg)\n",
            "/usr/local/lib/python3.7/dist-packages/seaborn/_decorators.py:43: FutureWarning: Pass the following variable as a keyword arg: x. From version 0.12, the only valid positional argument will be `data`, and passing other arguments without an explicit keyword will result in an error or misinterpretation.\n",
            "  FutureWarning\n",
            "/usr/local/lib/python3.7/dist-packages/seaborn/categorical.py:3714: UserWarning: The `factorplot` function has been renamed to `catplot`. The original name will be removed in a future release. Please update your code. Note that the default `kind` in `factorplot` (`'point'`) has changed `'strip'` in `catplot`.\n",
            "  warnings.warn(msg)\n",
            "/usr/local/lib/python3.7/dist-packages/seaborn/_decorators.py:43: FutureWarning: Pass the following variable as a keyword arg: x. From version 0.12, the only valid positional argument will be `data`, and passing other arguments without an explicit keyword will result in an error or misinterpretation.\n",
            "  FutureWarning\n"
          ],
          "name": "stderr"
        },
        {
          "output_type": "display_data",
          "data": {
            "text/plain": [
              "<Figure size 360x216 with 0 Axes>"
            ]
          },
          "metadata": {
            "tags": []
          }
        },
        {
          "output_type": "display_data",
          "data": {
            "image/png": "[encoded data removed]",
            "text/plain": [
              "<Figure size 830.725x360 with 1 Axes>"
            ]
          },
          "metadata": {
            "tags": []
          }
        },
        {
          "output_type": "display_data",
          "data": {
            "text/plain": [
              "<Figure size 540x288 with 0 Axes>"
            ]
          },
          "metadata": {
            "tags": []
          }
        },
        {
          "output_type": "display_data",
          "data": {
            "image/png": "[encoded data removed]",
            "text/plain": [
              "<Figure size 830.725x360 with 1 Axes>"
            ]
          },
          "metadata": {
            "tags": []
          }
        }
      ]
    },
    {
      "cell_type": "markdown",
      "metadata": {
        "id": "h27k14PE6zV5"
      },
      "source": [
        "Observing the numerical and visual results, a meaningful correlation could not be reached. As mentioned above PCA could be more beneficial to handle this issue."
      ]
    },
    {
      "cell_type": "markdown",
      "metadata": {
        "id": "4NKq2Df5xrPp"
      },
      "source": [
        "---\n",
        "\n",
        "In this part the dataset is analysed to see whether the dealt dataset is balanced or not."
      ]
    },
    {
      "cell_type": "code",
      "metadata": {
        "colab": {
          "base_uri": "https://localhost:8080/"
        },
        "id": "gCY4gQ381eEj",
        "outputId": "95a6fecf-d614-47f9-f72e-f68647a1f845"
      },
      "source": [
        "train['price_range'].value_counts()"
      ],
      "execution_count": null,
      "outputs": [
        {
          "output_type": "execute_result",
          "data": {
            "text/plain": [
              "3    500\n",
              "2    500\n",
              "1    500\n",
              "0    500\n",
              "Name: price_range, dtype: int64"
            ]
          },
          "metadata": {
            "tags": []
          },
          "execution_count": 15
        }
      ]
    },
    {
      "cell_type": "markdown",
      "metadata": {
        "id": "1dxSMz4ux1dk"
      },
      "source": [
        "As all classes has same number of instances, the dataset is perfectly balanced. Also it is observed from the following figure."
      ]
    },
    {
      "cell_type": "code",
      "metadata": {
        "colab": {
          "base_uri": "https://localhost:8080/",
          "height": 285
        },
        "id": "APUo9XNQ0aVE",
        "outputId": "fd26767b-5d2c-45df-ca92-10c0487ea009"
      },
      "source": [
        "# visualize the distribution\n",
        "%matplotlib inline\n",
        "\n",
        "# the dataset is balanced\n",
        "plt.hist(train['price_range'], bins=4, range=[-0.5, 3.5], density=True, color='orange', align='mid', stacked=False)\n",
        "plt.xlabel('distribution for price range')\n",
        "plt.show()"
      ],
      "execution_count": null,
      "outputs": [
        {
          "output_type": "display_data",
          "data": {
            "image/png": "[encoded data removed]",
            "text/plain": [
              "<Figure size 432x288 with 1 Axes>"
            ]
          },
          "metadata": {
            "tags": [],
            "needs_background": "light"
          }
        }
      ]
    },
    {
      "cell_type": "markdown",
      "metadata": {
        "id": "3jDH4Lckyk45"
      },
      "source": [
        "The distribution of features are observed via plotted factor plots. It is observed that the class labels have no crucial impact on the distribution for the inspected features."
      ]
    },
    {
      "cell_type": "code",
      "metadata": {
        "colab": {
          "base_uri": "https://localhost:8080/",
          "height": 1000
        },
        "id": "gX_vqjRNTxFJ",
        "outputId": "a03e5b2b-c254-4f9e-a63e-410ab8c5597a"
      },
      "source": [
        "with sns.axes_style('white'):\n",
        "    g = sns.factorplot(\"price_range\", data=train, aspect=2,\n",
        "                       kind=\"count\", hue='front_cam')\n",
        "    g.set_ylabels('Number of Mobile Phones')\n",
        "    plt.title('Front Camera Pixels and Price')\n",
        "\n",
        "    \n",
        "    g = sns.factorplot(\"price_range\", data=train, aspect=2,\n",
        "                       kind=\"count\", hue='primary_cam', color='steelblue')\n",
        "    g.set_ylabels('Number of Mobile Phones')\n",
        "    plt.title('Primary Camera Pixels and Price')\n",
        "\n",
        "\n",
        "    g = sns.factorplot(\"price_range\", data=train, aspect=2,\n",
        "                       kind=\"count\", hue='screen_heig', color='rebeccapurple')\n",
        "    g.set_ylabels('Number of Mobile Phones')\n",
        "    plt.title('Screen Height and Price')\n"
      ],
      "execution_count": null,
      "outputs": [
        {
          "output_type": "stream",
          "text": [
            "/usr/local/lib/python3.7/dist-packages/seaborn/categorical.py:3714: UserWarning: The `factorplot` function has been renamed to `catplot`. The original name will be removed in a future release. Please update your code. Note that the default `kind` in `factorplot` (`'point'`) has changed `'strip'` in `catplot`.\n",
            "  warnings.warn(msg)\n",
            "/usr/local/lib/python3.7/dist-packages/seaborn/_decorators.py:43: FutureWarning: Pass the following variable as a keyword arg: x. From version 0.12, the only valid positional argument will be `data`, and passing other arguments without an explicit keyword will result in an error or misinterpretation.\n",
            "  FutureWarning\n",
            "/usr/local/lib/python3.7/dist-packages/seaborn/categorical.py:3714: UserWarning: The `factorplot` function has been renamed to `catplot`. The original name will be removed in a future release. Please update your code. Note that the default `kind` in `factorplot` (`'point'`) has changed `'strip'` in `catplot`.\n",
            "  warnings.warn(msg)\n",
            "/usr/local/lib/python3.7/dist-packages/seaborn/_decorators.py:43: FutureWarning: Pass the following variable as a keyword arg: x. From version 0.12, the only valid positional argument will be `data`, and passing other arguments without an explicit keyword will result in an error or misinterpretation.\n",
            "  FutureWarning\n",
            "/usr/local/lib/python3.7/dist-packages/seaborn/categorical.py:3714: UserWarning: The `factorplot` function has been renamed to `catplot`. The original name will be removed in a future release. Please update your code. Note that the default `kind` in `factorplot` (`'point'`) has changed `'strip'` in `catplot`.\n",
            "  warnings.warn(msg)\n",
            "/usr/local/lib/python3.7/dist-packages/seaborn/_decorators.py:43: FutureWarning: Pass the following variable as a keyword arg: x. From version 0.12, the only valid positional argument will be `data`, and passing other arguments without an explicit keyword will result in an error or misinterpretation.\n",
            "  FutureWarning\n"
          ],
          "name": "stderr"
        },
        {
          "output_type": "display_data",
          "data": {
            "image/png": "[encoded data removed]",
            "text/plain": [
              "<Figure size 789.175x360 with 1 Axes>"
            ]
          },
          "metadata": {
            "tags": []
          }
        },
        {
          "output_type": "display_data",
          "data": {
            "image/png": "[encoded data removed]",
            "text/plain": [
              "<Figure size 807.925x360 with 1 Axes>"
            ]
          },
          "metadata": {
            "tags": []
          }
        },
        {
          "output_type": "display_data",
          "data": {
            "image/png": "[encoded data removed]",
            "text/plain": [
              "<Figure size 800.8x360 with 1 Axes>"
            ]
          },
          "metadata": {
            "tags": []
          }
        }
      ]
    },
    {
      "cell_type": "markdown",
      "metadata": {
        "id": "oOfnm2c4ze8O"
      },
      "source": [
        "The train data is separated with respect to its labels in order to utilize in the following parts."
      ]
    },
    {
      "cell_type": "code",
      "metadata": {
        "id": "nwc6tQCsh2Od"
      },
      "source": [
        "# data is separated with respect to the price_range column \n",
        "cheap = train[(train['price_range']==0)]\n",
        "medium = train[(train['price_range']==1)]\n",
        "high = train[(train['price_range']==2)]\n",
        "very_high = train[(train['price_range']==3)]"
      ],
      "execution_count": null,
      "outputs": []
    },
    {
      "cell_type": "markdown",
      "metadata": {
        "id": "2g5VL_t907w1"
      },
      "source": [
        "In order to observe the impacts of the features together, 3 features and labels are inspected on the same figure. X axis refers to RAM, Y axis refers to battery power, varying color reflects the change in internal memory and size presents the price range."
      ]
    },
    {
      "cell_type": "code",
      "metadata": {
        "colab": {
          "base_uri": "https://localhost:8080/",
          "height": 305
        },
        "id": "dAG-1YWw2kaY",
        "outputId": "49580e5f-734b-4e6c-c159-2ddc9299abcb"
      },
      "source": [
        "# scatter plot that examines ram, memory, battery and price\n",
        "plt.scatter(train_x['ram'], train_x['battery_power'],\n",
        "          c=np.log10(train_x['int_memory']), s=10*(train['price_range']+1),\n",
        "          cmap='brg', alpha=0.5)\n",
        "\n",
        "# create colorbar and legend\n",
        "plt.colorbar(label=r'$\\log_{10}({\\rm int memory})$')\n",
        "# plt.clim(3, 7)\n",
        "\n",
        "# make legend with dummy points\n",
        "for a in [0, 1, 2, 3]:\n",
        "    plt.scatter([], [], c='k', alpha=0.5, s=10*(a+1),\n",
        "                label=\"Class \" + str(a))\n",
        "plt.legend(scatterpoints=1, frameon=False,\n",
        "           labelspacing=1, loc='lower left');\n",
        "plt.xlabel('RAM')\n",
        "plt.ylabel('Battery Power')"
      ],
      "execution_count": null,
      "outputs": [
        {
          "output_type": "execute_result",
          "data": {
            "text/plain": [
              "Text(0, 0.5, 'Battery Power')"
            ]
          },
          "metadata": {
            "tags": []
          },
          "execution_count": 19
        },
        {
          "output_type": "display_data",
          "data": {
            "image/png": "[encoded data removed]",
            "text/plain": [
              "<Figure size 432x288 with 2 Axes>"
            ]
          },
          "metadata": {
            "tags": [],
            "needs_background": "light"
          }
        }
      ]
    },
    {
      "cell_type": "markdown",
      "metadata": {
        "id": "l8sZ_-tw12Oo"
      },
      "source": [
        "From the figure above it is monitored that the RAM has the most impact on the class labels."
      ]
    },
    {
      "cell_type": "markdown",
      "metadata": {
        "id": "fza3LBS77jHZ"
      },
      "source": [
        "The impact of selected features on class label is examined via plotted figures."
      ]
    },
    {
      "cell_type": "code",
      "metadata": {
        "colab": {
          "base_uri": "https://localhost:8080/",
          "height": 301
        },
        "id": "SpGGTO9eyA8r",
        "outputId": "21458279-4d4e-494c-f040-274a82acecb8"
      },
      "source": [
        "train.pivot_table('battery_power', index='front_cam', columns='price_range',\n",
        "                    aggfunc='mean', fill_value=0, dropna=True,).plot()\n",
        "plt.ylabel('Average Battery Power');\n",
        "plt.title('Average Battery Power and Front Cam Pixels Relation');"
      ],
      "execution_count": null,
      "outputs": [
        {
          "output_type": "display_data",
          "data": {
            "image/png": "[encoded data removed]",
            "text/plain": [
              "<Figure size 432x288 with 1 Axes>"
            ]
          },
          "metadata": {
            "tags": [],
            "needs_background": "light"
          }
        }
      ]
    },
    {
      "cell_type": "markdown",
      "metadata": {
        "id": "nVS32ymG7rqP"
      },
      "source": [
        "Concerning the initial parts of the figure, battery power is more dominant in stating the class labels."
      ]
    },
    {
      "cell_type": "markdown",
      "metadata": {
        "id": "kjl78l5y77Wd"
      },
      "source": [
        "---\n",
        "\n",
        "Other fatures are examined too, in order to see the change in the impact."
      ]
    },
    {
      "cell_type": "code",
      "metadata": {
        "colab": {
          "base_uri": "https://localhost:8080/",
          "height": 301
        },
        "id": "Tzr6pp9VxjU7",
        "outputId": "67726151-1394-423b-d927-a80ba87cd3d5"
      },
      "source": [
        "train.pivot_table('ram', index='int_memory', columns='price_range',\n",
        "                    aggfunc='mean', fill_value=0, dropna=True,).plot()\n",
        "plt.ylabel('Average RAM');\n",
        "plt.title('RAM and Average Internal Memory Relation');"
      ],
      "execution_count": null,
      "outputs": [
        {
          "output_type": "display_data",
          "data": {
            "image/png": "[encoded data removed]",
            "text/plain": [
              "<Figure size 432x288 with 1 Axes>"
            ]
          },
          "metadata": {
            "tags": [],
            "needs_background": "light"
          }
        }
      ]
    },
    {
      "cell_type": "markdown",
      "metadata": {
        "id": "_VpHdRCi8I_Y"
      },
      "source": [
        "As it stated in the previous parts of the project RAM is clearly related with the class labels."
      ]
    },
    {
      "cell_type": "markdown",
      "metadata": {
        "id": "8By9QJPY8UvT"
      },
      "source": [
        "---\n",
        " \n",
        "Some statistical analysis is applied to train data. Before obtaining numerical results from statistical tests, some visualizations for different classes are utilized to see the relations. Then Levene's test, T test and ANOVA are applied to obtain more precise results."
      ]
    },
    {
      "cell_type": "code",
      "metadata": {
        "colab": {
          "base_uri": "https://localhost:8080/",
          "height": 318
        },
        "id": "NZONCY4pvISZ",
        "outputId": "46e8136f-d625-4acc-cce9-2ef44fb0414c"
      },
      "source": [
        "# statistical analysis\n",
        "stats.probplot(cheap['int_memory'], dist='norm', plot=plt)\n",
        "plt.title('Low Price Internal Memory Q-Q plot')"
      ],
      "execution_count": null,
      "outputs": [
        {
          "output_type": "execute_result",
          "data": {
            "text/plain": [
              "Text(0.5, 1.0, 'Low Price Internal Memory Q-Q plot')"
            ]
          },
          "metadata": {
            "tags": []
          },
          "execution_count": 22
        },
        {
          "output_type": "display_data",
          "data": {
            "image/png": "[encoded data removed]",
            "text/plain": [
              "<Figure size 432x288 with 1 Axes>"
            ]
          },
          "metadata": {
            "tags": [],
            "needs_background": "light"
          }
        }
      ]
    },
    {
      "cell_type": "code",
      "metadata": {
        "colab": {
          "base_uri": "https://localhost:8080/",
          "height": 318
        },
        "id": "7JPsc14FvZ80",
        "outputId": "66f9ca6b-6f5e-4c85-804b-fe5f90af0b3f"
      },
      "source": [
        "stats.probplot(high['int_memory'], dist='norm', plot=plt)\n",
        "plt.title('High Price Internal Memory Q-Q plot')"
      ],
      "execution_count": null,
      "outputs": [
        {
          "output_type": "execute_result",
          "data": {
            "text/plain": [
              "Text(0.5, 1.0, 'High Price Internal Memory Q-Q plot')"
            ]
          },
          "metadata": {
            "tags": []
          },
          "execution_count": 25
        },
        {
          "output_type": "display_data",
          "data": {
            "image/png": "[encoded data removed]",
            "text/plain": [
              "<Figure size 432x288 with 1 Axes>"
            ]
          },
          "metadata": {
            "tags": [],
            "needs_background": "light"
          }
        }
      ]
    },
    {
      "cell_type": "code",
      "metadata": {
        "colab": {
          "base_uri": "https://localhost:8080/"
        },
        "id": "-6jWx-xLwWSy",
        "outputId": "baa638a6-77e0-4964-d63c-2633e51ddc24"
      },
      "source": [
        "# data is analysed before handling t-test\n",
        "print(stats.levene(cheap['int_memory'], high['int_memory']))\n"
      ],
      "execution_count": null,
      "outputs": [
        {
          "output_type": "stream",
          "text": [
            "LeveneResult(statistic=0.8470159383112685, pvalue=0.3576202880586222)\n"
          ],
          "name": "stdout"
        }
      ]
    },
    {
      "cell_type": "code",
      "metadata": {
        "colab": {
          "base_uri": "https://localhost:8080/"
        },
        "id": "EjR-gWcGu2Wo",
        "outputId": "f0fcc845-eb42-41fc-fddb-5268557f4617"
      },
      "source": [
        "# t test is applied to compare the means\n",
        "print(stats.ttest_ind(cheap['int_memory'], high['int_memory']))"
      ],
      "execution_count": null,
      "outputs": [
        {
          "output_type": "stream",
          "text": [
            "Ttest_indResult(statistic=0.21979147840228733, pvalue=0.82607850384982)\n"
          ],
          "name": "stdout"
        }
      ]
    },
    {
      "cell_type": "code",
      "metadata": {
        "colab": {
          "base_uri": "https://localhost:8080/",
          "height": 318
        },
        "id": "PKy6w58YvU8m",
        "outputId": "99927905-437c-4cf7-a0fe-5abf264f2e7a"
      },
      "source": [
        "stats.probplot(cheap['ram'], dist='norm', plot=plt)\n",
        "plt.title('Low Price Ram Q-Q plot')"
      ],
      "execution_count": null,
      "outputs": [
        {
          "output_type": "execute_result",
          "data": {
            "text/plain": [
              "Text(0.5, 1.0, 'Low Price Ram Q-Q plot')"
            ]
          },
          "metadata": {
            "tags": []
          },
          "execution_count": 28
        },
        {
          "output_type": "display_data",
          "data": {
            "image/png": "[encoded data removed]",
            "text/plain": [
              "<Figure size 432x288 with 1 Axes>"
            ]
          },
          "metadata": {
            "tags": [],
            "needs_background": "light"
          }
        }
      ]
    },
    {
      "cell_type": "code",
      "metadata": {
        "colab": {
          "base_uri": "https://localhost:8080/",
          "height": 318
        },
        "id": "3xxUwJ5wvh5W",
        "outputId": "db242ba7-fcc1-47ee-ed82-93c067947672"
      },
      "source": [
        "stats.probplot(high['ram'], dist='norm', plot=plt)\n",
        "plt.title('High Price Internal Memory Q-Q plot')"
      ],
      "execution_count": null,
      "outputs": [
        {
          "output_type": "execute_result",
          "data": {
            "text/plain": [
              "Text(0.5, 1.0, 'High Price Internal Memory Q-Q plot')"
            ]
          },
          "metadata": {
            "tags": []
          },
          "execution_count": 29
        },
        {
          "output_type": "display_data",
          "data": {
            "image/png": "[encoded data removed]",
            "text/plain": [
              "<Figure size 432x288 with 1 Axes>"
            ]
          },
          "metadata": {
            "tags": [],
            "needs_background": "light"
          }
        }
      ]
    },
    {
      "cell_type": "code",
      "metadata": {
        "colab": {
          "base_uri": "https://localhost:8080/"
        },
        "id": "8AAgpzRav7eS",
        "outputId": "4b219472-69f4-457b-b8a7-e99a995acc72"
      },
      "source": [
        "# data is analysed before handling t-test\n",
        "print(stats.levene(cheap['ram'], high['ram']))"
      ],
      "execution_count": null,
      "outputs": [
        {
          "output_type": "stream",
          "text": [
            "LeveneResult(statistic=31.16760119715042, pvalue=3.049939833686545e-08)\n"
          ],
          "name": "stdout"
        }
      ]
    },
    {
      "cell_type": "code",
      "metadata": {
        "colab": {
          "base_uri": "https://localhost:8080/"
        },
        "id": "5HY344zQv2FL",
        "outputId": "224446e2-5f4e-43e1-8caf-df353787f206"
      },
      "source": [
        "# t test is applied to compare the means\n",
        "print(stats.ttest_ind(cheap['ram'], high['ram']))"
      ],
      "execution_count": null,
      "outputs": [
        {
          "output_type": "stream",
          "text": [
            "Ttest_indResult(statistic=-65.39029735548071, pvalue=0.0)\n"
          ],
          "name": "stdout"
        }
      ]
    },
    {
      "cell_type": "markdown",
      "metadata": {
        "id": "oO4_34Jz_oBa"
      },
      "source": [
        "The p value is zero for RAM, as it is expected from the former parts of the project.\n",
        "\n",
        "---"
      ]
    },
    {
      "cell_type": "code",
      "metadata": {
        "colab": {
          "base_uri": "https://localhost:8080/",
          "height": 111
        },
        "id": "qO3b9qyhtBC6",
        "outputId": "25b79018-556e-4a4d-cebc-da703d6a161b"
      },
      "source": [
        "# variances are examined via anova table\n",
        "model = ols('int_memory ~ C(price_range)', data=train).fit()\n",
        "anova_table = sm.stats.anova_lm(model, typ=2)\n",
        "anova_table"
      ],
      "execution_count": null,
      "outputs": [
        {
          "output_type": "execute_result",
          "data": {
            "text/html": [
              "<div>\n",
              "<style scoped>\n",
              "    .dataframe tbody tr th:only-of-type {\n",
              "        vertical-align: middle;\n",
              "    }\n",
              "\n",
              "    .dataframe tbody tr th {\n",
              "        vertical-align: top;\n",
              "    }\n",
              "\n",
              "    .dataframe thead th {\n",
              "        text-align: right;\n",
              "    }\n",
              "</style>\n",
              "<table border=\"1\" class=\"dataframe\">\n",
              "  <thead>\n",
              "    <tr style=\"text-align: right;\">\n",
              "      <th></th>\n",
              "      <th>sum_sq</th>\n",
              "      <th>df</th>\n",
              "      <th>F</th>\n",
              "      <th>PR(&gt;F)</th>\n",
              "    </tr>\n",
              "  </thead>\n",
              "  <tbody>\n",
              "    <tr>\n",
              "      <th>C(price_range)</th>\n",
              "      <td>2879.0295</td>\n",
              "      <td>3.0</td>\n",
              "      <td>2.922996</td>\n",
              "      <td>0.032777</td>\n",
              "    </tr>\n",
              "    <tr>\n",
              "      <th>Residual</th>\n",
              "      <td>655325.6460</td>\n",
              "      <td>1996.0</td>\n",
              "      <td>NaN</td>\n",
              "      <td>NaN</td>\n",
              "    </tr>\n",
              "  </tbody>\n",
              "</table>\n",
              "</div>"
            ],
            "text/plain": [
              "                     sum_sq      df         F    PR(>F)\n",
              "C(price_range)    2879.0295     3.0  2.922996  0.032777\n",
              "Residual        655325.6460  1996.0       NaN       NaN"
            ]
          },
          "metadata": {
            "tags": []
          },
          "execution_count": 30
        }
      ]
    },
    {
      "cell_type": "code",
      "metadata": {
        "colab": {
          "base_uri": "https://localhost:8080/",
          "height": 111
        },
        "id": "oyTBHJuEixgf",
        "outputId": "4db4e529-53c1-4bab-8344-0e2fb472a35f"
      },
      "source": [
        "# variances are examined via anova table\n",
        "model = ols('battery_power ~ C(price_range)', data=train).fit()\n",
        "anova_table = sm.stats.anova_lm(model, typ=2)\n",
        "anova_table"
      ],
      "execution_count": null,
      "outputs": [
        {
          "output_type": "execute_result",
          "data": {
            "text/html": [
              "<div>\n",
              "<style scoped>\n",
              "    .dataframe tbody tr th:only-of-type {\n",
              "        vertical-align: middle;\n",
              "    }\n",
              "\n",
              "    .dataframe tbody tr th {\n",
              "        vertical-align: top;\n",
              "    }\n",
              "\n",
              "    .dataframe thead th {\n",
              "        text-align: right;\n",
              "    }\n",
              "</style>\n",
              "<table border=\"1\" class=\"dataframe\">\n",
              "  <thead>\n",
              "    <tr style=\"text-align: right;\">\n",
              "      <th></th>\n",
              "      <th>sum_sq</th>\n",
              "      <th>df</th>\n",
              "      <th>F</th>\n",
              "      <th>PR(&gt;F)</th>\n",
              "    </tr>\n",
              "  </thead>\n",
              "  <tbody>\n",
              "    <tr>\n",
              "      <th>C(price_range)</th>\n",
              "      <td>1.750010e+07</td>\n",
              "      <td>3.0</td>\n",
              "      <td>31.598158</td>\n",
              "      <td>5.948688e-20</td>\n",
              "    </tr>\n",
              "    <tr>\n",
              "      <th>Residual</th>\n",
              "      <td>3.684835e+08</td>\n",
              "      <td>1996.0</td>\n",
              "      <td>NaN</td>\n",
              "      <td>NaN</td>\n",
              "    </tr>\n",
              "  </tbody>\n",
              "</table>\n",
              "</div>"
            ],
            "text/plain": [
              "                      sum_sq      df          F        PR(>F)\n",
              "C(price_range)  1.750010e+07     3.0  31.598158  5.948688e-20\n",
              "Residual        3.684835e+08  1996.0        NaN           NaN"
            ]
          },
          "metadata": {
            "tags": []
          },
          "execution_count": 31
        }
      ]
    },
    {
      "cell_type": "code",
      "metadata": {
        "colab": {
          "base_uri": "https://localhost:8080/",
          "height": 111
        },
        "id": "1vn3Sluq9crD",
        "outputId": "b06e829e-4ea6-4134-c12f-9d2d3b94a3f1"
      },
      "source": [
        "# variances are examined via anova table\n",
        "model = ols('ram ~ C(price_range)', data=train).fit()\n",
        "anova_table = sm.stats.anova_lm(model, typ=2)\n",
        "anova_table"
      ],
      "execution_count": null,
      "outputs": [
        {
          "output_type": "execute_result",
          "data": {
            "text/html": [
              "<div>\n",
              "<style scoped>\n",
              "    .dataframe tbody tr th:only-of-type {\n",
              "        vertical-align: middle;\n",
              "    }\n",
              "\n",
              "    .dataframe tbody tr th {\n",
              "        vertical-align: top;\n",
              "    }\n",
              "\n",
              "    .dataframe thead th {\n",
              "        text-align: right;\n",
              "    }\n",
              "</style>\n",
              "<table border=\"1\" class=\"dataframe\">\n",
              "  <thead>\n",
              "    <tr style=\"text-align: right;\">\n",
              "      <th></th>\n",
              "      <th>sum_sq</th>\n",
              "      <th>df</th>\n",
              "      <th>F</th>\n",
              "      <th>PR(&gt;F)</th>\n",
              "    </tr>\n",
              "  </thead>\n",
              "  <tbody>\n",
              "    <tr>\n",
              "      <th>C(price_range)</th>\n",
              "      <td>1.978211e+09</td>\n",
              "      <td>3.0</td>\n",
              "      <td>3520.110824</td>\n",
              "      <td>0.0</td>\n",
              "    </tr>\n",
              "    <tr>\n",
              "      <th>Residual</th>\n",
              "      <td>3.739000e+08</td>\n",
              "      <td>1996.0</td>\n",
              "      <td>NaN</td>\n",
              "      <td>NaN</td>\n",
              "    </tr>\n",
              "  </tbody>\n",
              "</table>\n",
              "</div>"
            ],
            "text/plain": [
              "                      sum_sq      df            F  PR(>F)\n",
              "C(price_range)  1.978211e+09     3.0  3520.110824     0.0\n",
              "Residual        3.739000e+08  1996.0          NaN     NaN"
            ]
          },
          "metadata": {
            "tags": []
          },
          "execution_count": 32
        }
      ]
    },
    {
      "cell_type": "markdown",
      "metadata": {
        "id": "8phbcBKp-SgS"
      },
      "source": [
        "Comparing the obtained results RAM is most dominant feature in the classification. Then battery power and internal memory are some crucial fetures on the labels."
      ]
    },
    {
      "cell_type": "markdown",
      "metadata": {
        "id": "DSexSBEz-Zgh"
      },
      "source": [
        "#### Conclusion\n",
        " \n",
        "At the end of the implemented codes and obtained results, it can be deduced that there are some features that not linearly correlated with the classification results (such as 4G, # of cores, bluetooth, etc.) However, from the figures and statistical analysis results it can be clearly seen that RAM, battery power, front camera pixels etc. are clearly related with the class labels. Among those featuresnRAM has the most impact on the labels."
      ]
    },
    {
      "cell_type": "markdown",
      "metadata": {
        "id": "tlDWCFNg16CZ"
      },
      "source": [
        " #### Highlights for Machine Learning\n",
        " \n",
        "Concerning the observations and deductions, the dimension reduction or feature selection might be utilized to proceed more efficiently in the machine learning parts if needed. In addition to those points, the test and training data is separated in the downloaded file. However, in order to reach more accurate results, validation set should be  separated too. Applying the validation process, hyperparameters will be tuned if needed for the chosen machine learning algorithms."
      ]
    },
    {
      "cell_type": "code",
      "metadata": {
        "id": "eBu3cprP_YXl"
      },
      "source": [
        ""
      ],
      "execution_count": null,
      "outputs": []
    }
  ]
}